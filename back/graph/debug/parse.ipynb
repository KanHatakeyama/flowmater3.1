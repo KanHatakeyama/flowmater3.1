{
    "cells": [
        {
            "cell_type": "code",
            "execution_count": 1,
            "metadata": {},
            "outputs": [],
            "source": [
                "import joblib\n",
                "import json\n",
                "import itertools\n",
                "import collections\n",
                "all_data=joblib.load(\"temp.bin\")"
            ]
        },
        {
            "cell_type": "code",
            "execution_count": null,
            "metadata": {},
            "outputs": [],
            "source": []
        },
        {
            "cell_type": "code",
            "execution_count": 2,
            "metadata": {},
            "outputs": [
                {
                    "data": {
                        "text/plain": [
                            "[{'name': 'load 29_data1', 'freq': 1000},\n",
                            " {'name': 'load 30_title2eeefee', 'freq': 1000},\n",
                            " {'name': 'load 31_data2', 'freq': 1000},\n",
                            " {'name': 'load 49_title', 'freq': 1000},\n",
                            " {'name': 'load 50_title', 'freq': 1000},\n",
                            " {'name': 'load 51_title2ee', 'freq': 1000},\n",
                            " {'name': 'load 52_title2ee', 'freq': 1000},\n",
                            " {'name': 'load 53_title2ee', 'freq': 1000},\n",
                            " {'name': 'load 54_title2eeefee', 'freq': 1000},\n",
                            " {'name': 'load 55_title2eeefee', 'freq': 1000},\n",
                            " {'name': 'load 56_e', 'freq': 1000},\n",
                            " {'name': 'load 57_e', 'freq': 1000},\n",
                            " {'name': 'Toucan', 'freq': 10},\n",
                            " {'name': 'Gorilla', 'freq': 8},\n",
                            " {'name': 'aaaabob', 'freq': 7},\n",
                            " {'name': 'eese', 'freq': 7},\n",
                            " {'name': 'test', 'freq': 4},\n",
                            " {'name': 'e', 'freq': 2},\n",
                            " {'name': 's', 'freq': 2},\n",
                            " {'name': 'aabob', 'freq': 2},\n",
                            " {'name': 'Goreeilla', 'freq': 2},\n",
                            " {'name': 'steaaap', 'freq': 1},\n",
                            " {'name': 'eee', 'freq': 1},\n",
                            " {'name': 'eef', 'freq': 1},\n",
                            " {'name': 'cheeem', 'freq': 1},\n",
                            " {'name': 'bob', 'freq': 1},\n",
                            " {'name': 'ee', 'freq': 1},\n",
                            " {'name': 'aaaaa', 'freq': 1},\n",
                            " {'name': 'atest', 'freq': 1},\n",
                            " {'name': 'eeee', 'freq': 1},\n",
                            " {'name': 'abob', 'freq': 1},\n",
                            " {'name': 'se', 'freq': 1}]"
                        ]
                    },
                    "execution_count": 2,
                    "metadata": {},
                    "output_type": "execute_result"
                }
            ],
            "source": [
                "\n",
                "# extract lines in a graph\n",
                "def extract_lines(str_graph):\n",
                "    graph=json.loads(str_graph)\n",
                "    nested_line_list=[node[\"name\"].split(\"\\n\") for node in graph]\n",
                "    line_list=list(itertools.chain.from_iterable(nested_line_list))\n",
                "    return line_list\n",
                "\n",
                "str_graph_list=[]\n",
                "title_list=[]\n",
                "pk_list=[]\n",
                "\n",
                "for d in all_data:\n",
                "    str_graph_list.append(d[\"graph\"])\n",
                "    title_list.append(d[\"title\"])\n",
                "    pk_list.append(d[\"id\"])\n",
                "\n",
                "\n",
                "#prepare load modules\n",
                "load_list=[{\"name\": f\"load {p}_{t}\", \"freq\": 1000} for (t,p) in zip(title_list,pk_list)]\n",
                "\n",
                "#parse lines\n",
                "all_nested_line_list=[extract_lines(str_graph) for str_graph in str_graph_list]\n",
                "all_line_list=list(itertools.chain.from_iterable(all_nested_line_list))\n",
                "counter = collections.Counter(all_line_list)\n",
                "\n",
                "sorted_counter=sorted( counter.items() , key=lambda x:x[1],reverse=True)\n",
                "line_frequency_list=[{\"name\": k, \"freq\": v} for (k,v) in sorted_counter]\n",
                "load_list.extend(line_frequency_list)\n",
                "load_list"
            ]
        },
        {
            "cell_type": "code",
            "execution_count": 3,
            "metadata": {},
            "outputs": [
                {
                    "data": {
                        "text/plain": [
                            "[{'name': 'load 29_data1', 'freq': 1000},\n",
                            " {'name': 'load 30_title2eeefee', 'freq': 1000},\n",
                            " {'name': 'load 31_data2', 'freq': 1000},\n",
                            " {'name': 'load 49_title', 'freq': 1000},\n",
                            " {'name': 'load 50_title', 'freq': 1000},\n",
                            " {'name': 'load 51_title2ee', 'freq': 1000},\n",
                            " {'name': 'load 52_title2ee', 'freq': 1000},\n",
                            " {'name': 'load 53_title2ee', 'freq': 1000},\n",
                            " {'name': 'load 54_title2eeefee', 'freq': 1000},\n",
                            " {'name': 'load 55_title2eeefee', 'freq': 1000},\n",
                            " {'name': 'load 56_e', 'freq': 1000},\n",
                            " {'name': 'load 57_e', 'freq': 1000},\n",
                            " {'name': 'Toucan', 'freq': 10},\n",
                            " {'name': 'Gorilla', 'freq': 8},\n",
                            " {'name': 'aaaabob', 'freq': 7},\n",
                            " {'name': 'eese', 'freq': 7},\n",
                            " {'name': 'test', 'freq': 4},\n",
                            " {'name': 'e', 'freq': 2},\n",
                            " {'name': 's', 'freq': 2},\n",
                            " {'name': 'aabob', 'freq': 2},\n",
                            " {'name': 'Goreeilla', 'freq': 2},\n",
                            " {'name': 'steaaap', 'freq': 1},\n",
                            " {'name': 'eee', 'freq': 1},\n",
                            " {'name': 'eef', 'freq': 1},\n",
                            " {'name': 'cheeem', 'freq': 1},\n",
                            " {'name': 'bob', 'freq': 1},\n",
                            " {'name': 'ee', 'freq': 1},\n",
                            " {'name': 'aaaaa', 'freq': 1},\n",
                            " {'name': 'atest', 'freq': 1},\n",
                            " {'name': 'eeee', 'freq': 1},\n",
                            " {'name': 'abob', 'freq': 1},\n",
                            " {'name': 'se', 'freq': 1}]"
                        ]
                    },
                    "execution_count": 3,
                    "metadata": {},
                    "output_type": "execute_result"
                }
            ],
            "source": [
                "\n",
                "load_list\n"
            ]
        },
        {
            "cell_type": "code",
            "execution_count": 18,
            "metadata": {},
            "outputs": [],
            "source": [
                "import os\n",
                "\n",
                "file_data=joblib.load(\"media.bin\")\n",
                "file_data\n",
                "#    return os.path.basename(self.upload.name)\n",
                "\n",
                "\n",
                "title_list=[]\n",
                "pk_list=[]\n",
                "time_list=[]\n",
                "\n",
                "for d in file_data:\n",
                "    title_list.append(os.path.basename(d[\"upload\"]))\n",
                "    pk_list.append(d[\"id\"])\n",
                "    time_list.append(d[\"created_at\"].strftime('%Y-%m-%d %H:%M:%S'))\n",
                "\n",
                "\n",
                "#prepare load modules\n",
                "load_list=[{\"name\": f\"file {p}_{t}_{time}\", \"freq\": 1000} for (t,p,time) in zip(title_list,pk_list,time_list)]\n",
                "\n"
            ]
        },
        {
            "cell_type": "code",
            "execution_count": 15,
            "metadata": {},
            "outputs": [
                {
                    "data": {
                        "text/plain": [
                            "'2022-03-30 06:03:14'"
                        ]
                    },
                    "execution_count": 15,
                    "metadata": {},
                    "output_type": "execute_result"
                }
            ],
            "source": [
                "file_data[0][\"created_at\"]"
            ]
        },
        {
            "cell_type": "code",
            "execution_count": 19,
            "metadata": {},
            "outputs": [
                {
                    "data": {
                        "text/plain": [
                            "[{'name': 'file 9_template.xlsx_2022-03-30 06:03:14', 'freq': 1000},\n",
                            " {'name': 'file 10_template.txt_2022-03-30 06:23:29', 'freq': 1000}]"
                        ]
                    },
                    "execution_count": 19,
                    "metadata": {},
                    "output_type": "execute_result"
                }
            ],
            "source": [
                "load_list"
            ]
        },
        {
            "cell_type": "code",
            "execution_count": null,
            "metadata": {},
            "outputs": [],
            "source": []
        }
    ],
    "metadata": {
        "interpreter": {
            "hash": "b611c5573b65b3622b7accb9c1f40b97765ff0445b89d16be92b11ca75db40a7"
        },
        "kernelspec": {
            "display_name": "Python 3.7.9 ('mi')",
            "language": "python",
            "name": "python3"
        },
        "language_info": {
            "codemirror_mode": {
                "name": "ipython",
                "version": 3
            },
            "file_extension": ".py",
            "mimetype": "text/x-python",
            "name": "python",
            "nbconvert_exporter": "python",
            "pygments_lexer": "ipython3",
            "version": "3.7.9"
        },
        "orig_nbformat": 4
    },
    "nbformat": 4,
    "nbformat_minor": 2
}