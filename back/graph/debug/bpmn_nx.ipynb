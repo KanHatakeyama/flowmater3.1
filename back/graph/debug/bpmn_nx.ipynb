{
 "cells": [
  {
   "cell_type": "code",
   "execution_count": 1,
   "metadata": {},
   "outputs": [],
   "source": [
    "\n",
    "#filepath=\"dat.bpmn\"\n",
    "#filepath=\"dat2.bpmn\"\n"
   ]
  },
  {
   "cell_type": "code",
   "execution_count": 145,
   "metadata": {},
   "outputs": [
    {
     "name": "stdout",
     "output_type": "stream",
     "text": [
      "The autoreload extension is already loaded. To reload it, use:\n",
      "  %reload_ext autoreload\n"
     ]
    }
   ],
   "source": [
    "import sys\n",
    "import networkx as nx\n",
    "\n",
    "import numpy as np\n",
    "sys.path.append(\"../\")\n",
    "\n",
    "%load_ext autoreload\n",
    "%autoreload 2\n",
    "from nxedit.basic_utils import get_node_contents,get_node_ids,search_target_word_re,search_target_word\n",
    "from nxedit.basic_utils import random_name\n",
    "from nxedit.graph_checker.analyze_tips import search_start_end_nodes\n",
    "from nxedit.ExpGraph import ExpGraph\n",
    "from nxedit.ExpManager import ExpManager\n",
    "from nxedit.draw import save_graph_html\n",
    "from nxedit.integrator.cut_and_connect import cut_son_graphs,load_another_graph\n",
    "\n",
    "import copy"
   ]
  },
  {
   "cell_type": "code",
   "execution_count": 146,
   "metadata": {},
   "outputs": [],
   "source": [
    "import json\n",
    "dump_path=\"dump.json\"\n"
   ]
  },
  {
   "cell_type": "code",
   "execution_count": 147,
   "metadata": {},
   "outputs": [],
   "source": [
    "manager=ExpManager(dump_path)"
   ]
  },
  {
   "cell_type": "code",
   "execution_count": 148,
   "metadata": {},
   "outputs": [
    {
     "ename": "NameError",
     "evalue": "name 'k' is not defined",
     "output_type": "error",
     "traceback": [
      "\u001b[0;31m---------------------------------------------------------------------------\u001b[0m",
      "\u001b[0;31mNameError\u001b[0m                                 Traceback (most recent call last)",
      "\u001b[0;32m<ipython-input-148-f41dc870b485>\u001b[0m in \u001b[0;36m<module>\u001b[0;34m\u001b[0m\n\u001b[1;32m      8\u001b[0m \u001b[0mcontent_list\u001b[0m\u001b[0;34m=\u001b[0m\u001b[0mg\u001b[0m\u001b[0;34m.\u001b[0m\u001b[0mnodes\u001b[0m\u001b[0;34m[\u001b[0m\u001b[0mnode_id\u001b[0m\u001b[0;34m]\u001b[0m\u001b[0;34m[\u001b[0m\u001b[0;34m\"node_name\"\u001b[0m\u001b[0;34m]\u001b[0m\u001b[0;34m.\u001b[0m\u001b[0msplit\u001b[0m\u001b[0;34m(\u001b[0m\u001b[0;34m\"\\n\"\u001b[0m\u001b[0;34m)\u001b[0m\u001b[0;34m\u001b[0m\u001b[0;34m\u001b[0m\u001b[0m\n\u001b[1;32m      9\u001b[0m \u001b[0;34m\u001b[0m\u001b[0m\n\u001b[0;32m---> 10\u001b[0;31m \u001b[0mk\u001b[0m\u001b[0;34m\u001b[0m\u001b[0;34m\u001b[0m\u001b[0m\n\u001b[0m\u001b[1;32m     11\u001b[0m \u001b[0mcontent_list\u001b[0m\u001b[0;34m\u001b[0m\u001b[0;34m\u001b[0m\u001b[0m\n",
      "\u001b[0;31mNameError\u001b[0m: name 'k' is not defined"
     ]
    }
   ],
   "source": [
    "exp=manager.exp_dict[100][\"exp\"]\n",
    "\n",
    "# search for numeric nodes (e.g., volume: 10 mL)\n",
    "node_num=search_target_word_re(exp.content_array,\".*:\",True)\n",
    "\n",
    "node_id=exp.node_array[node_num]\n",
    "g=exp.g\n",
    "content_list=g.nodes[node_id][\"node_name\"].split(\"\\n\")\n",
    "\n",
    "title_node=random_name()+\"_title\"\n",
    "prop_node=random_name()+\"_prop\"\n",
    "unit_node=random_name()+\"_unit\""
   ]
  },
  {
   "cell_type": "code",
   "execution_count": 140,
   "metadata": {},
   "outputs": [
    {
     "data": {
      "text/plain": [
       "'volume: 13 mL\\nmol: 75 mmol'"
      ]
     },
     "execution_count": 140,
     "metadata": {},
     "output_type": "execute_result"
    }
   ],
   "source": [
    "exp.content_array[3]"
   ]
  },
  {
   "cell_type": "code",
   "execution_count": 124,
   "metadata": {},
   "outputs": [],
   "source": [
    "import re\n",
    "search_word=\".*duration\"\n",
    "content='Stirr\\ntemperature: -78 oC\\nduration: 60 min'\n",
    "res = re.match(search_word, content)\n",
    "res"
   ]
  },
  {
   "cell_type": "code",
   "execution_count": 136,
   "metadata": {},
   "outputs": [],
   "source": [
    "save_graph_html(manager.exp_dict[100][\"exp\"].g)"
   ]
  },
  {
   "cell_type": "code",
   "execution_count": 126,
   "metadata": {},
   "outputs": [
    {
     "data": {
      "text/plain": [
       "array(['start', 'Flask', 'Add', 'volume: 13 mL\\nmol: 75 mmol', 'Add',\n",
       "       'volume: 100 mL', 'N2 flow',\n",
       "       'Stirr\\ntemperature: -78 oC\\nduration: 15 min', 'file 62_ptam.png',\n",
       "       'Add', 'Stirr\\ntemperature: -78 oC\\nduration: 60 min',\n",
       "       'Stirr\\ntemperature: r.t.\\nduration: 60 min', 'Extract', 'Mix',\n",
       "       'Extract', 'Organic layer', 'Vacuum drying', 'Recrystallization',\n",
       "       'Mix', 'product\\nSMILES O=C(C=C)NC1CC(C)(C)NC(C)(C)C1\\n',\n",
       "       'white solid\\nweight 5.65 g\\nyield 90%',\n",
       "       'Experimenter: Yuto Igarashi\\nDate: 2022/2/8', 'end',\n",
       "       'SMILES NC1CC(C)(C)NC(C)(C)C1', 'Made by: TCI', 'SMILES ClCCl',\n",
       "       'SMILES C=CC(Cl)=O',\n",
       "       'SMILES [Na+].[Na+].[O-]C([O-])=O\\nweight 22 g', 'SMILES CCCCCC',\n",
       "       'SMILES OCC', 'SMILES O[H]\\nvolume: 100 mL'], dtype='<U45')"
      ]
     },
     "execution_count": 126,
     "metadata": {},
     "output_type": "execute_result"
    }
   ],
   "source": [
    "exp.content_array"
   ]
  },
  {
   "cell_type": "code",
   "execution_count": null,
   "metadata": {},
   "outputs": [],
   "source": []
  }
 ],
 "metadata": {
  "interpreter": {
   "hash": "b611c5573b65b3622b7accb9c1f40b97765ff0445b89d16be92b11ca75db40a7"
  },
  "kernelspec": {
   "display_name": "Python 3.7.9 ('mi')",
   "language": "python",
   "name": "python3"
  },
  "language_info": {
   "codemirror_mode": {
    "name": "ipython",
    "version": 3
   },
   "file_extension": ".py",
   "mimetype": "text/x-python",
   "name": "python",
   "nbconvert_exporter": "python",
   "pygments_lexer": "ipython3",
   "version": "3.7.9"
  },
  "orig_nbformat": 4
 },
 "nbformat": 4,
 "nbformat_minor": 2
}
