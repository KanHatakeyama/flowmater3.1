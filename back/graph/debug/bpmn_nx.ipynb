{
 "cells": [
  {
   "cell_type": "code",
   "execution_count": 73,
   "metadata": {},
   "outputs": [
    {
     "name": "stdout",
     "output_type": "stream",
     "text": [
      "The autoreload extension is already loaded. To reload it, use:\n",
      "  %reload_ext autoreload\n"
     ]
    }
   ],
   "source": [
    "import sys\n",
    "import networkx as nx\n",
    "\n",
    "import numpy as np\n",
    "sys.path.append(\"../\")\n",
    "\n",
    "%load_ext autoreload\n",
    "%autoreload 2\n",
    "from nxedit.basic_utils import get_node_contents,get_node_ids,search_target_word_re,search_target_word\n",
    "from nxedit.basic_utils import random_name\n",
    "from nxedit.graph_checker.analyze_tips import search_start_end_nodes\n",
    "from nxedit.classes.ExpGraph import ExpGraph\n",
    "from nxedit.classes.ExpManager import ExpManager\n",
    "from nxedit.draw import save_graph_html\n",
    "from nxedit.integrator.cut_and_connect import cut_son_graphs,load_another_graph\n",
    "\n",
    "import copy"
   ]
  },
  {
   "cell_type": "code",
   "execution_count": 79,
   "metadata": {},
   "outputs": [],
   "source": [
    "import json\n",
    "dump_path=\"dump.json\"\n"
   ]
  },
  {
   "cell_type": "code",
   "execution_count": 84,
   "metadata": {},
   "outputs": [],
   "source": [
    "manager=ExpManager(dump_path)"
   ]
  },
  {
   "cell_type": "code",
   "execution_count": 85,
   "metadata": {},
   "outputs": [],
   "source": [
    "\n"
   ]
  },
  {
   "cell_type": "code",
   "execution_count": 86,
   "metadata": {},
   "outputs": [],
   "source": [
    "save_graph_html(manager.exp_dict[\"123\"][\"exp\"].g)"
   ]
  },
  {
   "cell_type": "code",
   "execution_count": 110,
   "metadata": {},
   "outputs": [
    {
     "data": {
      "text/plain": [
       "{'title': 'ptam_test_dup',\n",
       " 'tags': 'test_igarashi',\n",
       " 'bpmn': <bpmn_python.bpmn_diagram_rep.BpmnDiagramGraph at 0x15041181f690>,\n",
       " 'exp': <nxedit.classes.ExpGraph.ExpGraph at 0x150411a89b50>}"
      ]
     },
     "execution_count": 110,
     "metadata": {},
     "output_type": "execute_result"
    }
   ],
   "source": []
  },
  {
   "cell_type": "code",
   "execution_count": 111,
   "metadata": {},
   "outputs": [
    {
     "name": "stdout",
     "output_type": "stream",
     "text": [
      "[2, 2]\n"
     ]
    }
   ],
   "source": [
    "import copy\n",
    "\n",
    "pk=\"123\"\n",
    "record=manager.exp_dict[pk]\n",
    "exp=record[\"exp\"]\n",
    "\n",
    "\n",
    "def check_commas(exp):\n",
    "    # search for comma split nodes, indicating multiple experiments (e.g., 10,20,30)\n",
    "    comma_nodes_nums=search_target_word_re(exp.content_array,\".*,\")\n",
    "\n",
    "    n_comma_list=[]\n",
    "    comma_dict={}\n",
    "    for node_num in comma_nodes_nums:\n",
    "        n_comma=content.count(\",\")\n",
    "        content=exp.content_array[node_num]\n",
    "        n_comma_list.append(n_comma)\n",
    "        comma_dict[node_num]=content.split(\",\")\n",
    "\n",
    "    # if number of commas are different in a graph, raise error\n",
    "    if len(list(set(n_comma_list)))!=1 and len(n_comma_list)!=0:\n",
    "        raise ValueError(\"number of commas (,) in nodes must be the same in a graph!\",comma_dict)\n",
    "\n",
    "\n",
    "    if len(n_comma_list)==0:\n",
    "        return (-1,None)\n",
    "\n",
    "    return (n_comma,comma_dict)\n",
    "    \n"
   ]
  },
  {
   "cell_type": "code",
   "execution_count": 108,
   "metadata": {},
   "outputs": [
    {
     "data": {
      "text/plain": [
       "{45: ['10', '20', '60'], 57: ['90', '60', '70']}"
      ]
     },
     "execution_count": 108,
     "metadata": {},
     "output_type": "execute_result"
    }
   ],
   "source": [
    "comma_dict"
   ]
  },
  {
   "cell_type": "code",
   "execution_count": 106,
   "metadata": {},
   "outputs": [
    {
     "data": {
      "text/plain": [
       "array(['start', 'Flask', 'Add', 'Add', 'N2 flow', 'Stirr', 'Add', 'Stirr',\n",
       "       'Stirr', 'Extract', 'Mix', 'Extract', 'Organic layer',\n",
       "       'Vacuum drying', 'Recrystallization', 'Mix', 'product\\n',\n",
       "       'white solid', 'Experiment condition', 'end',\n",
       "       'SMILES NC1CC(C)(C)NC(C)(C)C1', 'Made by: TCI', 'SMILES ClCCl',\n",
       "       'weight 22 g', 'SMILES CCCCCC', 'SMILES OCC', 'volume', '13', 'mL',\n",
       "       'mol', '75', 'mmol', 'volume', '100', 'mL', 'temperature', '-78',\n",
       "       'oC', 'duration', '15', 'min', 'temperature', '-78', 'oC',\n",
       "       'duration', '10,20,60', 'min', 'temperature', '25', 'oC',\n",
       "       'duration', '60', 'min', 'weight', '5.65', 'g', 'yield',\n",
       "       '90,60,70', '%', 'Experimenter', 'Yuto Igarashi', 'Date',\n",
       "       '2022/2/8', 'volume', '100', 'mL'], dtype='<U28')"
      ]
     },
     "execution_count": 106,
     "metadata": {},
     "output_type": "execute_result"
    }
   ],
   "source": [
    "exp.content_array"
   ]
  },
  {
   "cell_type": "code",
   "execution_count": null,
   "metadata": {},
   "outputs": [],
   "source": []
  }
 ],
 "metadata": {
  "interpreter": {
   "hash": "b611c5573b65b3622b7accb9c1f40b97765ff0445b89d16be92b11ca75db40a7"
  },
  "kernelspec": {
   "display_name": "Python 3.7.9 ('mi')",
   "language": "python",
   "name": "python3"
  },
  "language_info": {
   "codemirror_mode": {
    "name": "ipython",
    "version": 3
   },
   "file_extension": ".py",
   "mimetype": "text/x-python",
   "name": "python",
   "nbconvert_exporter": "python",
   "pygments_lexer": "ipython3",
   "version": "3.7.9"
  },
  "orig_nbformat": 4
 },
 "nbformat": 4,
 "nbformat_minor": 2
}
