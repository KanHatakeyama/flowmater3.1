{
 "cells": [
  {
   "cell_type": "code",
   "execution_count": 41,
   "metadata": {},
   "outputs": [
    {
     "name": "stdout",
     "output_type": "stream",
     "text": [
      "The autoreload extension is already loaded. To reload it, use:\n",
      "  %reload_ext autoreload\n"
     ]
    }
   ],
   "source": [
    "import sys\n",
    "import networkx as nx\n",
    "\n",
    "import numpy as np\n",
    "sys.path.append(\"../\")\n",
    "\n",
    "%load_ext autoreload\n",
    "%autoreload 2\n",
    "from nxedit.basic_utils import get_node_contents,get_node_ids,search_target_word_re,search_target_word\n",
    "from nxedit.basic_utils import random_name\n",
    "from nxedit.graph_checker.analyze_tips import search_start_end_nodes\n",
    "from nxedit.classes.ExpGraph import ExpGraph\n",
    "from nxedit.classes.ExpManager import ExpManager\n",
    "from nxedit.draw import save_graph_html\n",
    "from nxedit.integrator.cut_and_connect import cut_son_graphs,load_another_graph\n",
    "from nxedit.integrator.duplicator import check_commas\n",
    "\n",
    "import copy"
   ]
  },
  {
   "cell_type": "code",
   "execution_count": 42,
   "metadata": {},
   "outputs": [],
   "source": [
    "import json\n",
    "dump_path=\"dump.json\"\n"
   ]
  },
  {
   "cell_type": "code",
   "execution_count": 43,
   "metadata": {},
   "outputs": [],
   "source": [
    "manager=ExpManager(dump_path)"
   ]
  },
  {
   "cell_type": "code",
   "execution_count": 44,
   "metadata": {},
   "outputs": [],
   "source": [
    "save_graph_html(manager.exp_dict[\"123_1\"][\"exp\"].g)\n",
    "#save_graph_html(manager.exp_dict[\"123\"][\"exp\"].g)\n"
   ]
  },
  {
   "cell_type": "code",
   "execution_count": null,
   "metadata": {},
   "outputs": [],
   "source": [
    "# smiles中の=が無駄に処理されてしまっているので、修正が必要\n",
    "            if len(exception_list) > 0:\n",
    "                for exception_word in exception_list:\n",
    "                    if line.startswith(exception_word):\n",
    "                        line = line.replace(\"=\", \"*****\")"
   ]
  },
  {
   "cell_type": "code",
   "execution_count": 27,
   "metadata": {},
   "outputs": [],
   "source": [
    "import re\n",
    "from nxedit.integrator.string_parser import clean_line\n",
    "exp=manager.exp_dict[\"123_1\"][\"exp\"]\n",
    "exp.content_array\n",
    "\n",
    "\n",
    "exp.update_info()"
   ]
  },
  {
   "cell_type": "code",
   "execution_count": 34,
   "metadata": {},
   "outputs": [
    {
     "name": "stdout",
     "output_type": "stream",
     "text": [
      "SMILES O=C(C=C)NC1CC(C)(C)NC(C)(C)C1\n",
      "SMILES NC1CC(C)(C)NC(C)(C)C1\n",
      "SMILES ClCCl\n",
      "SMILES C=CC(Cl)=O\n",
      "SMILES ClCCl\n",
      "SMILES [Na+].[Na+].[O-]C([O-])=O\n",
      "SMILES CCCCCC\n",
      "SMILES OCC\n",
      "SMILES O[H]\n"
     ]
    },
    {
     "data": {
      "text/plain": [
       "'mL'"
      ]
     },
     "execution_count": 34,
     "metadata": {},
     "output_type": "execute_result"
    }
   ],
   "source": [
    "self=exp\n",
    "exp.content_array\n",
    "\n",
    "for content in self.content_array:\n",
    "    for line in content.split(\"\\n\"):\n",
    "        if line.startswith(\"SMILES\"):\n",
    "            print(line)\n"
   ]
  },
  {
   "cell_type": "code",
   "execution_count": 16,
   "metadata": {},
   "outputs": [
    {
     "data": {
      "text/plain": [
       "NodeView(('Task_18okrx5_VxxCKwHB2cpf7L4', 'Task_0rkqglj_SB84eaBhnT0uFsI', 'Task_1kmw8q2_1dinQoFpI58zRo1', 'Task_1pf13pt_ijQVVR56Oa0dlQ4', 'Task_1q83zid_YdkE6uSsuytwVDC', 'Task_13ntvj9_RzaGjqEanMjoucp', 'Task_1iysbb1_YKwF9PxDNosejag', 'Task_106ukwo_kl0QfBctvdCWSF1', 'Task_0oj52dv_IGBQyoQXEADUXjM', 'Task_0ox863e_BhKXlOWITjO6th4', 'Task_0dp1qzx_p8nZTnF0RmZOHhC', 'Task_08f8x7r_okoe2l0zmOsYb3Z', 'Task_0v7bmfc_JFJzUHfeeGBYp8S', 'Task_0l155vr_QEAM0Zw6PLDAP0c', 'Task_1c5vrwx_JsSNMiZXlJDznGd', 'Task_0t01x2o_dXB7nzAjMOyeX9Y', 'Task_0gzjb2b_lSfoIm79ygHUSYx', 'Task_1kydvbg_yzQGpSUICf7kHBr', 'Task_11exz1p_XmC7Ou8dr3T7oGT', 'end_ZeAtEi7s2oPIMf8_xrvuMdEObG2Ql6E', 'Task_1un2egm_6BGR3AvFtm0CnEm', 'Task_0hejyhd_Awb8tQDFAflVFfB', 'Task_0wnhhyw_KRer6IBXgakesWt', 'Task_094copi_tceksGi9SawlFoE', 'Task_11s4crw_ybHcCTxTvBxBS2C', 'Task_13s4y3z_GlSiN9IWAK2HB8s', '3oZOJCZJ2Otxs3N_title_0fAFhk8HXKqxg2b', 'LVMa6XOWniq5UAn_prop_hwPO9YfnW1nvXLf', '2JmWUBpT8uwc4dH_unit_Sdx6K54jnxbSegk', 'q1rJHON9NwKeq5k_title_5eLeUNiha6ekkpf', 'hOzajg57tVHCSgA_prop_lGpkeU6UUxFixJG', 'jP5JaVQydVXtpqk_unit_sg9QF9a1O7215DN', '4R5al8ijs2SooOw_title_MHEBNwiBeuGKRWh', '72eLiy6uahsFC9E_prop_CKAstLPK6Lbj0Oe', 'WzplBLU7M7UtqEi_unit_vdfVya8WfFRS0Py', 'C0gzWGiJrGowVKX_title_MLYGLh3cEvTl7Ui', 'DDpar4N7snGqALK_prop_so1bApOvdRqqcAb', 'YU7YWyb2tz9MLwS_unit_PN2H6grBYnwWuXG', 'kWZItvZGuBiFRBo_title_9NY9otRaiYkjfDd', 'CJWkLLz7IzMmbMB_prop_F5oc3zimRKDdF67', '2NZMFfMP51iMiMb_unit_u4tOkHW74HUY7XN', 'QjDT0CpIcrdbAH1_title_fbppJKyC9L4VOM3', 'g7u6z7bunV5FZpE_prop_WrGxgJVU2b1y7bp', 'INbNtKwOUWNX9tf_unit_5F51D1NFJxvW96h', 'wz3D2YlGGfEx01o_title_fR1jZyYAeDzfAav', 'cVGMJhEUAwhrISf_prop_D17m0I2j8QTiY2j', 'ZoIdKWL9IMrRN76_unit_UKaNLGIl3JZh4mG', 'FfOhvlXS2A6SmFY_title_A0KcTzR3BMAU1Fw', 'yytlSwxp1MFpSd2_prop_g0EbefdqCR8OID4', 'Dl3mbSXdpwHP8OS_unit_NTBZby2DaWENcfF', 'wd22yy1LkAAIc8i_title_N1WojGnB5CQY3BU', 'qEyGKXB9mtSWccd_prop_ClhRTwuwsK1L4Vo', 'rmBtLMXTjO9PUEG_unit_jDbclzAMb0zrJvt', 'RyDuvl90J9vH4u8_title_UMY0VGe0BoJvZ6B', 'YqqriCsuNDYXAiU_prop_snUVphFssVklWJL', 'pL4qrg85nhwWao0_unit_RxmgSvLgG786tCu', 'KosWk38Ni3ksU1K_title_hvlyXviu0WTVG7e', 'x4c3M2ek5sC9UXL_prop_aATQffByZcPAvBg', 'zC1O7xq9J5HOX9p_unit_wJt9Jn7vsxfZFnW', '8JYa1a8H9XrZgyp_title_4PvFpKtXA9p1yOO', 'JGxLV8OZEqkOpqK_prop_FKc5rcsStWJzCGG', 'ebH0P7BE2D5RPgX_title_Pg8UTZzw0R0Tgx4', 'gycSISDIzmo5Fll_prop_ekap6CYEc6h3PqV', 'BES3duHTE3mXhmb_title_rHEHTjgzwTPhCAD', '1LTIZ7BGVR5aE6c_prop_Z1J5ypJfm9Gp9EB', 'V8md1hcEAGZz4BW_unit_nQBgNhKZ5E4jqod'))"
      ]
     },
     "execution_count": 16,
     "metadata": {},
     "output_type": "execute_result"
    }
   ],
   "source": [
    "original_node_ids=exp.node_array\n",
    "modif_dict={i:i+\"_\"+random_name() for i in original_node_ids}\n",
    "modif_dict\n",
    "nx.relabel_nodes(exp.g, modif_dict).nodes"
   ]
  },
  {
   "cell_type": "code",
   "execution_count": null,
   "metadata": {},
   "outputs": [],
   "source": []
  }
 ],
 "metadata": {
  "interpreter": {
   "hash": "b611c5573b65b3622b7accb9c1f40b97765ff0445b89d16be92b11ca75db40a7"
  },
  "kernelspec": {
   "display_name": "Python 3.7.9 ('mi')",
   "language": "python",
   "name": "python3"
  },
  "language_info": {
   "codemirror_mode": {
    "name": "ipython",
    "version": 3
   },
   "file_extension": ".py",
   "mimetype": "text/x-python",
   "name": "python",
   "nbconvert_exporter": "python",
   "pygments_lexer": "ipython3",
   "version": "3.7.9"
  },
  "orig_nbformat": 4
 },
 "nbformat": 4,
 "nbformat_minor": 2
}
