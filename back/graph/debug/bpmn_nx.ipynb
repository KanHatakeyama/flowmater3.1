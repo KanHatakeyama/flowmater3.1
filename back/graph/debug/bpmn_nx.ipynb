{
 "cells": [
  {
   "cell_type": "code",
   "execution_count": 1,
   "metadata": {},
   "outputs": [],
   "source": [
    "\n",
    "#filepath=\"dat.bpmn\"\n",
    "#filepath=\"dat2.bpmn\"\n"
   ]
  },
  {
   "cell_type": "code",
   "execution_count": 2,
   "metadata": {},
   "outputs": [],
   "source": [
    "import sys\n",
    "import networkx as nx\n",
    "sys.path.append(\"../\")\n",
    "\n",
    "%load_ext autoreload\n",
    "%autoreload 2\n",
    "from nxedit.basic_utils import get_node_contents,get_node_ids,search_target_word_re,search_target_word\n",
    "from nxedit.graph_checker.analyze_tips import search_start_end_nodes\n",
    "from nxedit.ExpGraph import ExpGraph\n",
    "from nxedit.ExpManager import ExpManager\n",
    "from nxedit.draw import save_graph_html\n",
    "from nxedit.integrator.cut_and_connect import cut_son_graphs,load_another_graph\n",
    "\n",
    "import copy"
   ]
  },
  {
   "cell_type": "code",
   "execution_count": 3,
   "metadata": {},
   "outputs": [],
   "source": [
    "import json\n",
    "dump_path=\"dump.json\"\n"
   ]
  },
  {
   "cell_type": "code",
   "execution_count": 32,
   "metadata": {},
   "outputs": [],
   "source": [
    "manager=ExpManager(dump_path)"
   ]
  },
  {
   "cell_type": "code",
   "execution_count": 33,
   "metadata": {},
   "outputs": [],
   "source": [
    "exp=manager.exp_dict[115][\"exp\"]"
   ]
  },
  {
   "cell_type": "code",
   "execution_count": 34,
   "metadata": {},
   "outputs": [],
   "source": [
    "MAX_NEST_GRAPH=4\n",
    "# load son graphs according to \"load ****\" command\n",
    "\n",
    "for i in range(len(list(exp.load_commands))):\n",
    "    load_another_graph(exp,i,manager)\n",
    "\n",
    "exp.update_info()"
   ]
  },
  {
   "cell_type": "code",
   "execution_count": 36,
   "metadata": {},
   "outputs": [],
   "source": [
    "save_graph_html(exp.g)"
   ]
  },
  {
   "cell_type": "code",
   "execution_count": 190,
   "metadata": {},
   "outputs": [
    {
     "data": {
      "text/plain": [
       "['Task_18okrx5',\n",
       " 'Task_0rkqglj',\n",
       " 'Task_1kmw8q2',\n",
       " 'Task_0hd1ijo',\n",
       " 'Task_0xknem4',\n",
       " 'Task_1pf13pt',\n",
       " 'Task_1ksz0oe',\n",
       " 'Task_1oz5o69',\n",
       " 'Task_1q83zid',\n",
       " 'Task_13ntvj9',\n",
       " 'StartEvent_159onjb',\n",
       " 'Task_1iysbb1',\n",
       " 'Task_0of486n',\n",
       " 'Task_106ukwo',\n",
       " 'Task_0oj52dv',\n",
       " 'Task_0ox863e',\n",
       " 'Task_0dp1qzx',\n",
       " 'Task_1jr0dmu',\n",
       " 'Task_06y8dks',\n",
       " 'Task_08f8x7r',\n",
       " 'Task_0v7bmfc',\n",
       " 'Task_0l155vr',\n",
       " 'Task_1c5vrwx',\n",
       " 'Task_0t01x2o',\n",
       " 'Task_13gilfk',\n",
       " 'Task_12wo5op',\n",
       " 'Task_0gzjb2b',\n",
       " 'Task_1kydvbg',\n",
       " 'Task_05azovu',\n",
       " 'Task_11exz1p',\n",
       " 'end_xqC8UaC63Z0CVkc',\n",
       " 'Task_1un2egm',\n",
       " 'Task_0hejyhd',\n",
       " 'end_v061iXOVMlsmK1v']"
      ]
     },
     "execution_count": 190,
     "metadata": {},
     "output_type": "execute_result"
    }
   ],
   "source": []
  },
  {
   "cell_type": "code",
   "execution_count": 168,
   "metadata": {},
   "outputs": [
    {
     "data": {
      "text/plain": [
       "['start', 'SMILES NC1CC(C)(C)NC(C)(C)C1', 'Made by: TCI']"
      ]
     },
     "execution_count": 168,
     "metadata": {},
     "output_type": "execute_result"
    }
   ],
   "source": [
    "get_node_contents(son_exp.g)"
   ]
  },
  {
   "cell_type": "code",
   "execution_count": 183,
   "metadata": {},
   "outputs": [
    {
     "data": {
      "text/plain": [
       "{'node_name': 'end'}"
      ]
     },
     "execution_count": 183,
     "metadata": {},
     "output_type": "execute_result"
    }
   ],
   "source": [
    "exp.g.nodes[\"end_xqC8UaC63Z0CVkc\"]"
   ]
  },
  {
   "cell_type": "code",
   "execution_count": 184,
   "metadata": {},
   "outputs": [
    {
     "data": {
      "text/plain": [
       "OutEdgeView([('Task_18okrx5', 'Task_11exz1p'), ('Task_0rkqglj', 'Task_1kmw8q2'), ('Task_1kmw8q2', 'Task_1pf13pt'), ('Task_0hd1ijo', 'Task_1kmw8q2'), ('Task_0xknem4', 'Task_0hd1ijo'), ('Task_1pf13pt', 'Task_1q83zid'), ('Task_1ksz0oe', 'Task_1pf13pt'), ('Task_1oz5o69', 'Task_1ksz0oe'), ('Task_1q83zid', 'Task_13ntvj9'), ('Task_13ntvj9', 'Task_1iysbb1'), ('StartEvent_159onjb', 'Task_11exz1p'), ('Task_1iysbb1', 'Task_106ukwo'), ('Task_0of486n', 'Task_1iysbb1'), ('Task_106ukwo', 'Task_0oj52dv'), ('Task_0oj52dv', 'Task_0ox863e'), ('Task_0ox863e', 'Task_08f8x7r'), ('Task_0dp1qzx', 'Task_0ox863e'), ('Task_1jr0dmu', 'Task_0dp1qzx'), ('Task_06y8dks', 'Task_0dp1qzx'), ('Task_08f8x7r', 'Task_0v7bmfc'), ('Task_0v7bmfc', 'Task_0l155vr'), ('Task_0l155vr', 'Task_1c5vrwx'), ('Task_1c5vrwx', 'Task_0gzjb2b'), ('Task_0t01x2o', 'Task_1c5vrwx'), ('Task_13gilfk', 'Task_0t01x2o'), ('Task_12wo5op', 'Task_0t01x2o'), ('Task_0gzjb2b', 'end_xqC8UaC63Z0CVkc'), ('Task_1kydvbg', 'Task_0gzjb2b'), ('Task_05azovu', 'Task_0dp1qzx'), ('Task_11exz1p', 'Task_0rkqglj')])"
      ]
     },
     "execution_count": 184,
     "metadata": {},
     "output_type": "execute_result"
    }
   ],
   "source": [
    "exp.g.edges"
   ]
  },
  {
   "cell_type": "code",
   "execution_count": null,
   "metadata": {},
   "outputs": [],
   "source": []
  }
 ],
 "metadata": {
  "interpreter": {
   "hash": "b611c5573b65b3622b7accb9c1f40b97765ff0445b89d16be92b11ca75db40a7"
  },
  "kernelspec": {
   "display_name": "Python 3.7.9 ('mi')",
   "language": "python",
   "name": "python3"
  },
  "language_info": {
   "codemirror_mode": {
    "name": "ipython",
    "version": 3
   },
   "file_extension": ".py",
   "mimetype": "text/x-python",
   "name": "python",
   "nbconvert_exporter": "python",
   "pygments_lexer": "ipython3",
   "version": "3.7.9"
  },
  "orig_nbformat": 4
 },
 "nbformat": 4,
 "nbformat_minor": 2
}
