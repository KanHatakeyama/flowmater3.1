{
 "cells": [
  {
   "cell_type": "code",
   "execution_count": 188,
   "metadata": {},
   "outputs": [
    {
     "name": "stdout",
     "output_type": "stream",
     "text": [
      "The autoreload extension is already loaded. To reload it, use:\n",
      "  %reload_ext autoreload\n"
     ]
    }
   ],
   "source": [
    "import sys\n",
    "import networkx as nx\n",
    "\n",
    "import numpy as np\n",
    "sys.path.append(\"../\")\n",
    "\n",
    "%load_ext autoreload\n",
    "%autoreload 2\n",
    "from nxedit.basic_utils import get_node_contents,get_node_ids,search_target_word_re,search_target_word\n",
    "from nxedit.basic_utils import random_name\n",
    "from nxedit.graph_checker.analyze_tips import search_start_end_nodes\n",
    "from nxedit.classes.ExpGraph import ExpGraph\n",
    "from nxedit.classes.ExpManager import ExpManager\n",
    "from nxedit.draw import save_graph_html\n",
    "from nxedit.integrator.cut_and_connect import cut_son_graphs,load_another_graph\n",
    "from nxedit.integrator.duplicator import check_commas\n",
    "from nxedit.GraphFingerprint.GraphFingerprint import GraphFingerprint\n",
    "from nxedit.GraphFingerprint.utils import fill_numbers,get_fp_key,get_node_id_with_fp_key\n",
    "\n",
    "import copy"
   ]
  },
  {
   "cell_type": "code",
   "execution_count": 189,
   "metadata": {},
   "outputs": [],
   "source": [
    "import json\n",
    "dump_path=\"dump.json\"\n"
   ]
  },
  {
   "cell_type": "code",
   "execution_count": 190,
   "metadata": {},
   "outputs": [],
   "source": [
    "manager=ExpManager(dump_path)"
   ]
  },
  {
   "cell_type": "code",
   "execution_count": 191,
   "metadata": {},
   "outputs": [],
   "source": [
    "save_graph_html(manager.exp_dict[\"123_1\"][\"exp\"].g)\n",
    "#save_graph_html(manager.exp_dict[\"123\"][\"exp\"].g)\n"
   ]
  },
  {
   "cell_type": "code",
   "execution_count": 192,
   "metadata": {},
   "outputs": [],
   "source": [
    "g=manager.exp_dict[\"123_1\"][\"exp\"].g"
   ]
  },
  {
   "cell_type": "code",
   "execution_count": 193,
   "metadata": {},
   "outputs": [],
   "source": [
    "g_list=[manager.exp_dict[k][\"exp\"].g for k in manager.exp_dict]\n",
    "\n",
    "fp_class=GraphFingerprint(g_list)\n",
    "        \n",
    "\n",
    "fp_list=np.array([fp_class(g) for g in g_list])"
   ]
  },
  {
   "cell_type": "code",
   "execution_count": 194,
   "metadata": {},
   "outputs": [
    {
     "data": {
      "text/plain": [
       "['%-o-[*NUM]',\n",
       " '*NUM-i-[%]-o-[yield]',\n",
       " '*NUM-i-[g]-o-[weight]',\n",
       " '*NUM-i-[mL]-o-[volume]',\n",
       " '*NUM-i-[min]-o-[duration]',\n",
       " '*NUM-i-[mmol]-o-[mol]',\n",
       " '*NUM-i-[oC]-o-[temperature]',\n",
       " '2022/2/8-o-[Date]',\n",
       " 'Add-i-[Add:Compound]-o-[N2 flow]',\n",
       " 'Add-i-[Compound:Flask]-o-[Add]',\n",
       " 'Add-i-[Compound:Stirr]-o-[Stirr]',\n",
       " 'C=CC(Cl)=O-o-[SMILES]',\n",
       " 'CCCCCC-o-[SMILES]',\n",
       " 'COC-o-[SMILES]',\n",
       " 'COCC-o-[SMILES]',\n",
       " 'ClCCl-o-[SMILES]',\n",
       " 'Compound+weight 22 g-i-[SMILES]-o-[Mix]',\n",
       " 'Compound-i-[Made by: TCI:SMILES:mol:volume]-o-[Add]',\n",
       " 'Compound-i-[Made by: TCI:SMILES:start]-o-[end]',\n",
       " 'Compound-i-[SMILES:mix+this is a pen+Compound]-o-[end]',\n",
       " 'Compound-i-[SMILES:start]-o-[end]',\n",
       " 'Compound-i-[SMILES:volume]-o-[Add]',\n",
       " 'Compound-i-[SMILES:volume]-o-[Mix]',\n",
       " 'Compound-i-[SMILES:weight]-o-[Mix]',\n",
       " 'Compound-i-[SMILES]-o-[Add]',\n",
       " 'Compound-i-[SMILES]-o-[Mix]',\n",
       " 'Date-i-[2022/2/8]-o-[Experiment condition]',\n",
       " 'Experiment condition-i-[Date:Experimenter:start]-o-[Flask]',\n",
       " 'Experimenter-i-[Yuto Igarashi]-o-[Experiment condition]',\n",
       " 'Extract-i-[Extract]-o-[Organic layer]',\n",
       " 'Extract-i-[Mix:Stirr]-o-[Extract]',\n",
       " 'Extract-i-[Mix:Stirr]-o-[Organic layer]',\n",
       " 'Flask-i-[Experiment condition]-o-[Add]',\n",
       " 'Made by: TCI-o-[Compound]',\n",
       " 'Mix-i-[Compound:Compound:Compound+weight 22 g]-o-[Extract]',\n",
       " 'Mix-i-[Compound:Compound:Compound]-o-[Extract]',\n",
       " 'Mix-i-[Compound:Compound]-o-[Recrystallization]',\n",
       " 'N2 flow-i-[Add]-o-[Stirr]',\n",
       " 'NC1CC(C)(C)NC(C)(C)C1-o-[SMILES]',\n",
       " 'O=C(C=C)NC1CC(C)(C)NC(C)(C)C1-o-[SMILES]',\n",
       " 'OCC-o-[SMILES]',\n",
       " 'O[H]-o-[SMILES]',\n",
       " 'Organic layer-i-[Extract]-o-[Vacuum drying]',\n",
       " 'Recrystallization-i-[Mix:Vacuum drying]-o-[product+Compound]',\n",
       " 'SMILES-i-[C=CC(Cl)=O]-o-[Compound]',\n",
       " 'SMILES-i-[CCCCCC]-o-[Compound]',\n",
       " 'SMILES-i-[COCC]-o-[mix+this is a pen+Compound]',\n",
       " 'SMILES-i-[COC]-o-[Compound]',\n",
       " 'SMILES-i-[ClCCl]-o-[Compound]',\n",
       " 'SMILES-i-[NC1CC(C)(C)NC(C)(C)C1]-o-[Compound]',\n",
       " 'SMILES-i-[O=C(C=C)NC1CC(C)(C)NC(C)(C)C1]-o-[product+Compound]',\n",
       " 'SMILES-i-[OCC]-o-[Compound]',\n",
       " 'SMILES-i-[O[H]]-o-[Compound]',\n",
       " 'SMILES-i-[[Na+].[Na+].[O-]C([O-])=O]-o-[Compound+weight 22 g]',\n",
       " 'SMILES-i-[[Na+].[Na+].[O-]C([O-])=O]-o-[Compound]',\n",
       " 'Stirr-i-[Add:duration:temperature]-o-[Stirr]',\n",
       " 'Stirr-i-[N2 flow:duration:temperature]-o-[Add]',\n",
       " 'Stirr-i-[Stirr:duration:temperature]-o-[Extract]',\n",
       " 'Vacuum drying-i-[Organic layer]-o-[Recrystallization]',\n",
       " 'Yuto Igarashi-o-[Experimenter]',\n",
       " '[Na+].[Na+].[O-]C([O-])=O-o-[SMILES]',\n",
       " 'duration-i-[*NUM]-o-[Stirr]',\n",
       " 'end-i-[Compound]',\n",
       " 'end-i-[product+Compound]',\n",
       " 'g-o-[*NUM]',\n",
       " 'heat-i-[mix:temperature]-o-[mix+this is a pen+Compound]',\n",
       " 'mL-o-[*NUM]',\n",
       " 'min-o-[*NUM]',\n",
       " 'mix+this is a pen+Compound-i-[SMILES:heat]-o-[Compound]',\n",
       " 'mix-i-[product+Compound:temperature]-o-[heat]',\n",
       " 'mmol-o-[*NUM]',\n",
       " 'mol-i-[*NUM]-o-[Compound]',\n",
       " 'oC-o-[*NUM]',\n",
       " 'product+Compound-i-[Recrystallization:SMILES:white solid]-o-[end]',\n",
       " 'product+Compound-i-[Recrystallization:SMILES:white solid]-o-[mix]',\n",
       " 'start-o-[Compound]',\n",
       " 'start-o-[Experiment condition]',\n",
       " 'temperature-i-[*NUM]-o-[Stirr]',\n",
       " 'temperature-i-[*NUM]-o-[heat]',\n",
       " 'temperature-i-[*NUM]-o-[mix]',\n",
       " 'volume-i-[*NUM]-o-[Compound]',\n",
       " 'weight-i-[*NUM]-o-[Compound]',\n",
       " 'weight-i-[*NUM]-o-[white solid]',\n",
       " 'white solid-i-[weight:yield]-o-[product+Compound]',\n",
       " 'yield-i-[*NUM]-o-[white solid]']"
      ]
     },
     "execution_count": 194,
     "metadata": {},
     "output_type": "execute_result"
    }
   ],
   "source": [
    "fp_class.key_list"
   ]
  },
  {
   "cell_type": "code",
   "execution_count": 195,
   "metadata": {},
   "outputs": [],
   "source": [
    "target_fp_key='*NUM-i-[%]-o-[yield]'\n"
   ]
  },
  {
   "cell_type": "code",
   "execution_count": 203,
   "metadata": {},
   "outputs": [],
   "source": [
    "mark_node_ids=get_node_id_with_fp_key(g,target_fp_key)\n",
    "#print(mark_node_ids)\n",
    "save_graph_html(manager.exp_dict[\"123_1\"][\"exp\"].g,color_node_ids=mark_node_ids)"
   ]
  },
  {
   "cell_type": "code",
   "execution_count": 202,
   "metadata": {},
   "outputs": [
    {
     "data": {
      "text/plain": [
       "\"\\nfrom pyvis import network as net\\nfrom IPython.core.display import display, HTML\\nnt = net.Network(notebook=True)\\nnt.from_nx(g)\\nnt.show('flowchart.html')\\ndisplay(HTML('flowchart.html'))\\n\""
      ]
     },
     "execution_count": 202,
     "metadata": {},
     "output_type": "execute_result"
    }
   ],
   "source": [
    "\"\"\"\n",
    "from pyvis import network as net\n",
    "from IPython.core.display import display, HTML\n",
    "nt = net.Network(notebook=True)\n",
    "nt.from_nx(g)\n",
    "nt.show('flowchart.html')\n",
    "display(HTML('flowchart.html'))\n",
    "\"\"\"\n"
   ]
  },
  {
   "cell_type": "code",
   "execution_count": null,
   "metadata": {},
   "outputs": [],
   "source": []
  }
 ],
 "metadata": {
  "interpreter": {
   "hash": "b611c5573b65b3622b7accb9c1f40b97765ff0445b89d16be92b11ca75db40a7"
  },
  "kernelspec": {
   "display_name": "Python 3.7.9 ('mi')",
   "language": "python",
   "name": "python3"
  },
  "language_info": {
   "codemirror_mode": {
    "name": "ipython",
    "version": 3
   },
   "file_extension": ".py",
   "mimetype": "text/x-python",
   "name": "python",
   "nbconvert_exporter": "python",
   "pygments_lexer": "ipython3",
   "version": "3.7.9"
  },
  "orig_nbformat": 4
 },
 "nbformat": 4,
 "nbformat_minor": 2
}
