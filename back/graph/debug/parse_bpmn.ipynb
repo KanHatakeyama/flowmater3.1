{
 "cells": [
  {
   "cell_type": "code",
   "execution_count": 1,
   "metadata": {},
   "outputs": [],
   "source": [
    "\n",
    "string=\"\"\"\n",
    "<?xml version=\"1.0\" encoding=\"UTF-8\"?>\n",
    "<bpmn:definitions xmlns:bpmn=\"http://www.omg.org/spec/BPMN/20100524/MODEL\" xmlns:bpmndi=\"http://www.omg.org/spec/BPMN/20100524/DI\" xmlns:di=\"http://www.omg.org/spec/DD/20100524/DI\" xmlns:dc=\"http://www.omg.org/spec/DD/20100524/DC\" xmlns:xsi=\"http://www.w3.org/2001/XMLSchema-instance\" xmlns:custom=\"http://custom/ns\" id=\"Definitions_1\" targetNamespace=\"http://bpmn.io/schema/bpmn\">\n",
    "  <bpmn:process id=\"Process_1\" isExecutable=\"false\">\n",
    "    <bpmn:sequenceFlow id=\"SequenceFlow_17w8608\" sourceRef=\"Task_0zlv465\" targetRef=\"Task_1xewseo\" />\n",
    "    <bpmn:task id=\"Task_1xewseo\" name=\"aaあb&#10;sxssaac\">\n",
    "      <bpmn:incoming>SequenceFlow_17w8608</bpmn:incoming>\n",
    "      <bpmn:outgoing>SequenceFlow_1gm7a7z</bpmn:outgoing>\n",
    "    </bpmn:task>\n",
    "    <bpmn:serviceTask id=\"Task_0zlv465\" name=\"うぇえ&#10;aa\" custom:topic=\"my.custom.topic\">\n",
    "      <bpmn:outgoing>SequenceFlow_17w8608</bpmn:outgoing>\n",
    "    </bpmn:serviceTask>\n",
    "    <bpmn:task id=\"Task_16vvpty\" name=\"bbbaaabあ&#10;aaaabda&#10;this is a pen aacda&#10;ああaa\">\n",
    "      <bpmn:incoming>SequenceFlow_1gm7a7z</bpmn:incoming>\n",
    "    </bpmn:task>\n",
    "    <bpmn:sequenceFlow id=\"SequenceFlow_1gm7a7z\" sourceRef=\"Task_1xewseo\" targetRef=\"Task_16vvpty\" />\n",
    "  </bpmn:process>\n",
    "  <bpmndi:BPMNDiagram id=\"BPMNDiagram_1\">\n",
    "    <bpmndi:BPMNPlane id=\"BPMNPlane_1\" bpmnElement=\"Process_1\">\n",
    "      <bpmndi:BPMNEdge id=\"SequenceFlow_17w8608_di\" bpmnElement=\"SequenceFlow_17w8608\">\n",
    "        <di:waypoint x=\"385\" y=\"147\" />\n",
    "        <di:waypoint x=\"407\" y=\"147\" />\n",
    "        <di:waypoint x=\"407\" y=\"206\" />\n",
    "        <di:waypoint x=\"429\" y=\"206\" />\n",
    "        <bpmndi:BPMNLabel>\n",
    "          <dc:Bounds x=\"353.5\" y=\"110\" width=\"90\" height=\"20\" />\n",
    "        </bpmndi:BPMNLabel>\n",
    "      </bpmndi:BPMNEdge>\n",
    "      <bpmndi:BPMNShape id=\"Task_1xewseo_di\" bpmnElement=\"Task_1xewseo\">\n",
    "        <dc:Bounds x=\"429\" y=\"166\" width=\"100\" height=\"80\" />\n",
    "      </bpmndi:BPMNShape>\n",
    "      <bpmndi:BPMNShape id=\"ServiceTask_0wob562_di\" bpmnElement=\"Task_0zlv465\">\n",
    "        <dc:Bounds x=\"285\" y=\"107\" width=\"100\" height=\"80\" />\n",
    "      </bpmndi:BPMNShape>\n",
    "      <bpmndi:BPMNShape id=\"Task_16vvpty_di\" bpmnElement=\"Task_16vvpty\">\n",
    "        <dc:Bounds x=\"418\" y=\"328\" width=\"100\" height=\"80\" />\n",
    "      </bpmndi:BPMNShape>\n",
    "      <bpmndi:BPMNEdge id=\"SequenceFlow_1gm7a7z_di\" bpmnElement=\"SequenceFlow_1gm7a7z\">\n",
    "        <di:waypoint x=\"479\" y=\"246\" />\n",
    "        <di:waypoint x=\"479\" y=\"275\" />\n",
    "        <di:waypoint x=\"468\" y=\"275\" />\n",
    "        <di:waypoint x=\"468\" y=\"328\" />\n",
    "      </bpmndi:BPMNEdge>\n",
    "    </bpmndi:BPMNPlane>\n",
    "  </bpmndi:BPMNDiagram>\n",
    "</bpmn:definitions>\n",
    "\"\"\""
   ]
  },
  {
   "cell_type": "code",
   "execution_count": 6,
   "metadata": {},
   "outputs": [
    {
     "data": {
      "text/plain": [
       "'aaあb\\nsxssaac'"
      ]
     },
     "execution_count": 6,
     "metadata": {},
     "output_type": "execute_result"
    }
   ],
   "source": [
    "import re\n",
    "pattern = 'name=\".*?\"'\n",
    "\n",
    "# findall \n",
    "results = re.findall(pattern, string, re.S)\n",
    "\n",
    "def clean_line(line):\n",
    "    for i in ['\"','name=']:\n",
    "        line=line.replace(i,\"\")\n",
    "\n",
    "    line=line.replace(\"&#10;\",\"\\n\")\n",
    "    return line\n",
    "\n",
    "clean_line(results[0])\n"
   ]
  },
  {
   "cell_type": "code",
   "execution_count": 16,
   "metadata": {},
   "outputs": [],
   "source": [
    "import joblib\n",
    "import re\n",
    "path=\"lines.bin\"\n",
    "str_graph_list=joblib.load(path)\n",
    "\n",
    "def clean_line(line):\n",
    "    for i in ['\"', 'name=']:\n",
    "        line = line.replace(i, \"\")\n",
    "\n",
    "    line = line.replace(\"&#10;\", \"\\n\")\n",
    "    return line\n",
    "\n",
    "\n",
    "def extract_lines(str_graph):\n",
    "    # extract texts from pbmn\n",
    "    raw_texts= re.findall('name=\".*?\"', str_graph, re.S)\n",
    "    lines_list=[clean_line(i).split(\"\\n\") for i in raw_texts]\n",
    "\n",
    "    line_pair_list=[]\n",
    "    word_list=[]\n",
    "\n",
    "    for lines in lines_list:\n",
    "        if len(lines)<2:\n",
    "            word_list.append(lines[0])\n",
    "            continue\n",
    "\n",
    "        for num,line in enumerate(lines):\n",
    "            word_list.append(line)\n",
    "            if num==0:\n",
    "                 continue\n",
    "            line_pair_list.append((lines[num-1],lines[num]))\n",
    "            \n",
    "\n",
    "    return word_list,line_pair_list\n"
   ]
  },
  {
   "cell_type": "code",
   "execution_count": 18,
   "metadata": {},
   "outputs": [],
   "source": [
    "_,line_pair_list=extract_lines(str_graph_list[0])"
   ]
  },
  {
   "cell_type": "code",
   "execution_count": 19,
   "metadata": {},
   "outputs": [
    {
     "data": {
      "text/plain": [
       "[('mix', 'a'), ('heat', 'at 100 oC'), ('at 100 oC', 'loadaaa')]"
      ]
     },
     "execution_count": 19,
     "metadata": {},
     "output_type": "execute_result"
    }
   ],
   "source": [
    "line_pair_list"
   ]
  },
  {
   "cell_type": "code",
   "execution_count": 24,
   "metadata": {},
   "outputs": [
    {
     "data": {
      "text/plain": [
       "[{'name': ('mix', 'a'), 'freq': 1},\n",
       " {'name': ('heat', 'at 100 oC'), 'freq': 1},\n",
       " {'name': ('at 100 oC', 'loadaaa'), 'freq': 1}]"
      ]
     },
     "execution_count": 24,
     "metadata": {},
     "output_type": "execute_result"
    }
   ],
   "source": [
    "import collections\n",
    "pair_counter = collections.Counter(line_pair_list)\n",
    "sorted_pair_counter = sorted(pair_counter.items(), key=lambda x: x[1], reverse=True)\n",
    "pair_frequency_list = [{\"name\": k, \"freq\": v} for (k, v) in sorted_pair_counter]\n",
    "pair_frequency_list\n"
   ]
  },
  {
   "cell_type": "code",
   "execution_count": 26,
   "metadata": {},
   "outputs": [],
   "source": [
    "upper_line=\"mi\"\n",
    "\n",
    "filt_list=[]\n",
    "\n",
    "for i in pair_frequency_list:\n",
    "    if i[\"name\"][0].startswith(upper_line):\n",
    "        filt_list.append(({\"name\": i[\"name\"][1], \"freq\": i[\"freq\"]}))"
   ]
  },
  {
   "cell_type": "code",
   "execution_count": 27,
   "metadata": {},
   "outputs": [
    {
     "data": {
      "text/plain": [
       "[{'name': 'a', 'freq': 1}]"
      ]
     },
     "execution_count": 27,
     "metadata": {},
     "output_type": "execute_result"
    }
   ],
   "source": [
    "filt_list"
   ]
  },
  {
   "cell_type": "code",
   "execution_count": null,
   "metadata": {},
   "outputs": [],
   "source": []
  }
 ],
 "metadata": {
  "interpreter": {
   "hash": "b611c5573b65b3622b7accb9c1f40b97765ff0445b89d16be92b11ca75db40a7"
  },
  "kernelspec": {
   "display_name": "Python 3.7.9 ('mi')",
   "language": "python",
   "name": "python3"
  },
  "language_info": {
   "codemirror_mode": {
    "name": "ipython",
    "version": 3
   },
   "file_extension": ".py",
   "mimetype": "text/x-python",
   "name": "python",
   "nbconvert_exporter": "python",
   "pygments_lexer": "ipython3",
   "version": "3.7.9"
  },
  "orig_nbformat": 4
 },
 "nbformat": 4,
 "nbformat_minor": 2
}
