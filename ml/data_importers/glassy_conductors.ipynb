{
 "cells": [
  {
   "cell_type": "code",
   "execution_count": 1,
   "metadata": {},
   "outputs": [],
   "source": [
    "%load_ext autoreload\n",
    "%autoreload 2\n",
    "import joblib\n",
    "import networkx as nx\n",
    "import copy\n",
    "import sys\n",
    "sys.path.append(\"../\")\n",
    "from nxedit.xml_generator.xml_maker import graph_to_xml\n",
    "from nxedit.xml_generator.utils import calc_tree_pos ,pos_to_str_pos,format_xml"
   ]
  },
  {
   "cell_type": "code",
   "execution_count": 22,
   "metadata": {},
   "outputs": [],
   "source": [
    "\n",
    "g_dict=joblib.load(\"temp/gls.bin\")"
   ]
  },
  {
   "cell_type": "code",
   "execution_count": 23,
   "metadata": {},
   "outputs": [],
   "source": [
    "o_g=g_dict['normal_experiment0_graph_integrated_json_0_database/experiments/HA/exp150_eis_s86_pmps_chloranil_litfsi/exp150_eis.graphml']"
   ]
  },
  {
   "cell_type": "code",
   "execution_count": 24,
   "metadata": {},
   "outputs": [],
   "source": [
    "def convert(o_g):\n",
    "    g=copy.deepcopy(o_g)\n",
    "    for node in g.nodes:\n",
    "        #print(g.nodes[node])\n",
    "\n",
    "        content_list=[]\n",
    "        content_list.append(g.nodes[node][\"label\"])\n",
    "        for k,v in list(g.nodes[node].items()):\n",
    "            if k not in [\"x\",\"y\",\"type\",\"label\",\"ID\",\"note\",\"sigma\",\"keyword\"]:\n",
    "                content_list.append(f\"{k}={v}\")\n",
    "\n",
    "            if k ==\"sigma\":\n",
    "                val=float(v.replace(\" S/cm\",\"\"))\n",
    "                content_list.append(f\"ionic conductivity={val:.15f} S/cm\")\n",
    "\n",
    "                \n",
    "            g.nodes[node][\"node_name\"]=\"\\n\".join(content_list)\n",
    "\n",
    "    g = nx.relabel_nodes(g, {k:f\"TASK_{k}\" for k in g.nodes}, copy=False)\n",
    "\n",
    "    return g"
   ]
  },
  {
   "cell_type": "code",
   "execution_count": 5,
   "metadata": {},
   "outputs": [],
   "source": [
    "g=convert(o_g)"
   ]
  },
  {
   "cell_type": "code",
   "execution_count": 6,
   "metadata": {},
   "outputs": [],
   "source": [
    "pos=calc_tree_pos(g,args='-Grankdir=\"LR\" -Gnodesep=1 -Nshape=\"box\" -Granksep=2 -Gsplines=\"ortho\" ',X_SCALE=1,y_ratio=1.4,height=200)\n",
    "graph_to_xml(g,pos_to_str_pos(pos),\"temp/example.xml\",width=150,height=140)"
   ]
  },
  {
   "cell_type": "code",
   "execution_count": 9,
   "metadata": {},
   "outputs": [],
   "source": [
    "\n"
   ]
  },
  {
   "cell_type": "code",
   "execution_count": 26,
   "metadata": {},
   "outputs": [
    {
     "data": {
      "text/plain": [
       "'\\nwith open(file_path, \"wb\") as file:\\n    for k in tqdm(g_dict):\\n        o_g=g_dict[k]\\n            \\n        g=convert(o_g)\\n        pos=calc_tree_pos(g,args=\\'-Grankdir=\"LR\" -Gnodesep=1 -Nshape=\"box\" -Granksep=2 -Gsplines=\"ortho\" \\',X_SCALE=1,y_ratio=1.4,height=200)\\n        tree=graph_to_xml(g,pos_to_str_pos(pos),save_path=None,width=150,height=140)\\n\\n        tree.write(file, encoding=\\'utf-8\\', xml_declaration=True)\\n        file.write(split_code.encode())\\n\\n'"
      ]
     },
     "execution_count": 26,
     "metadata": {},
     "output_type": "execute_result"
    }
   ],
   "source": [
    "from tqdm import tqdm\n",
    "\n",
    "split_code=\"vgresiofealkjgequehfdnfdhhehe\"\n",
    "file_path=\"temp/dump_gc.txt\"\n",
    "\n",
    "\"\"\"\n",
    "with open(file_path, \"wb\") as file:\n",
    "    for k in tqdm(g_dict):\n",
    "        o_g=g_dict[k]\n",
    "            \n",
    "        g=convert(o_g)\n",
    "        pos=calc_tree_pos(g,args='-Grankdir=\"LR\" -Gnodesep=1 -Nshape=\"box\" -Granksep=2 -Gsplines=\"ortho\" ',X_SCALE=1,y_ratio=1.4,height=200)\n",
    "        tree=graph_to_xml(g,pos_to_str_pos(pos),save_path=None,width=150,height=140)\n",
    "\n",
    "        tree.write(file, encoding='utf-8', xml_declaration=True)\n",
    "        file.write(split_code.encode())\n",
    "\n",
    "\"\"\""
   ]
  },
  {
   "cell_type": "code",
   "execution_count": 30,
   "metadata": {},
   "outputs": [],
   "source": [
    "import pandas as pd\n",
    "with open(file_path,\"r\") as f:\n",
    "    s=f.read()\n",
    "\n",
    "data_list=s.split(split_code)"
   ]
  },
  {
   "cell_type": "code",
   "execution_count": 32,
   "metadata": {},
   "outputs": [],
   "source": [
    "df=pd.DataFrame(data_list)\n",
    "df.to_excel(\"temp/gc.xlsx\")"
   ]
  },
  {
   "cell_type": "code",
   "execution_count": null,
   "metadata": {},
   "outputs": [],
   "source": []
  }
 ],
 "metadata": {
  "interpreter": {
   "hash": "b611c5573b65b3622b7accb9c1f40b97765ff0445b89d16be92b11ca75db40a7"
  },
  "kernelspec": {
   "display_name": "Python 3.7.9 ('mi')",
   "language": "python",
   "name": "python3"
  },
  "language_info": {
   "codemirror_mode": {
    "name": "ipython",
    "version": 3
   },
   "file_extension": ".py",
   "mimetype": "text/x-python",
   "name": "python",
   "nbconvert_exporter": "python",
   "pygments_lexer": "ipython3",
   "version": "3.7.9"
  },
  "orig_nbformat": 4
 },
 "nbformat": 4,
 "nbformat_minor": 2
}
