{
 "cells": [
  {
   "cell_type": "code",
   "execution_count": 6,
   "metadata": {},
   "outputs": [
    {
     "name": "stdout",
     "output_type": "stream",
     "text": [
      "The autoreload extension is already loaded. To reload it, use:\n",
      "  %reload_ext autoreload\n"
     ]
    }
   ],
   "source": [
    "import sys\n",
    "import networkx as nx\n",
    "\n",
    "import numpy as np\n",
    "sys.path.append(\"../\")\n",
    "\n",
    "%load_ext autoreload\n",
    "%autoreload 2\n",
    "from nxedit.basic_utils import get_node_contents,get_node_ids,search_target_word_re,search_target_word\n",
    "from nxedit.basic_utils import random_name\n",
    "from nxedit.graph_checker.analyze_tips import search_start_end_nodes\n",
    "from nxedit.classes.ExpGraph import ExpGraph\n",
    "from nxedit.classes.ExpManager import ExpManager\n",
    "from nxedit.draw import save_graph_html\n",
    "from nxedit.integrator.cut_and_connect import cut_son_graphs,load_another_graph\n",
    "from nxedit.integrator.duplicator import check_commas\n",
    "from nxedit.GraphFingerprint.GraphFingerprint import GraphFingerprint\n",
    "from nxedit.GraphFingerprint.utils import fill_numbers,get_fp_key,get_node_id_with_fp_key\n",
    "\n",
    "import copy"
   ]
  },
  {
   "cell_type": "code",
   "execution_count": 7,
   "metadata": {},
   "outputs": [],
   "source": [
    "import json\n",
    "dump_path=\"temp/dump.json\"\n"
   ]
  },
  {
   "cell_type": "code",
   "execution_count": 8,
   "metadata": {},
   "outputs": [],
   "source": [
    "manager=ExpManager(dump_path)"
   ]
  },
  {
   "cell_type": "code",
   "execution_count": 9,
   "metadata": {},
   "outputs": [],
   "source": [
    "save_graph_html(manager.exp_dict[\"123_1\"][\"exp\"].g,\"temp/fc.html\")\n"
   ]
  },
  {
   "cell_type": "code",
   "execution_count": 10,
   "metadata": {},
   "outputs": [
    {
     "data": {
      "text/plain": [
       "['temp/g.bin']"
      ]
     },
     "execution_count": 10,
     "metadata": {},
     "output_type": "execute_result"
    }
   ],
   "source": [
    "g=manager.exp_dict[\"123_1\"][\"exp\"].g\n",
    "\n",
    "import joblib\n",
    "joblib.dump(g,\"temp/g.bin\")"
   ]
  },
  {
   "cell_type": "code",
   "execution_count": 6,
   "metadata": {},
   "outputs": [],
   "source": [
    "g_list=[manager.exp_dict[k][\"exp\"].g for k in manager.exp_dict]\n",
    "\n",
    "fp_class=GraphFingerprint(g_list)\n",
    "        \n",
    "\n",
    "fp_list=np.array([fp_class(g) for g in g_list])"
   ]
  },
  {
   "cell_type": "code",
   "execution_count": 7,
   "metadata": {},
   "outputs": [],
   "source": [
    "target_fp_key='*NUM-i-[%]-o-[yield]'\n"
   ]
  },
  {
   "cell_type": "code",
   "execution_count": 8,
   "metadata": {},
   "outputs": [],
   "source": [
    "mark_node_ids=get_node_id_with_fp_key(g,target_fp_key)\n",
    "#print(mark_node_ids)\n",
    "save_graph_html(manager.exp_dict[\"123_1\"][\"exp\"].g,color_node_ids=mark_node_ids,save_path=\"temp/fc.html\")"
   ]
  },
  {
   "cell_type": "code",
   "execution_count": 9,
   "metadata": {},
   "outputs": [
    {
     "data": {
      "text/html": [
       "\n",
       "        <iframe\n",
       "            width=\"500px\"\n",
       "            height=\"500px\"\n",
       "            src=\"temp/fc2.html\"\n",
       "            frameborder=\"0\"\n",
       "            allowfullscreen\n",
       "        ></iframe>\n",
       "        "
      ],
      "text/plain": [
       "<IPython.lib.display.IFrame at 0x7f13f70cf450>"
      ]
     },
     "execution_count": 9,
     "metadata": {},
     "output_type": "execute_result"
    }
   ],
   "source": [
    "from pyvis import network as net\n",
    "import networkx as nx\n",
    "\n",
    "gg=net.Network(notebook=True)\n",
    "gg.from_nx(nx.complete_graph(6))\n",
    "gg.show(\"temp/fc2.html\")"
   ]
  },
  {
   "cell_type": "code",
   "execution_count": 13,
   "metadata": {},
   "outputs": [
    {
     "data": {
      "application/javascript": "\n(function(root) {\n  function now() {\n    return new Date();\n  }\n\n  var force = true;\n\n  if (typeof root._bokeh_onload_callbacks === \"undefined\" || force === true) {\n    root._bokeh_onload_callbacks = [];\n    root._bokeh_is_loading = undefined;\n  }\n\n  if (typeof (root._bokeh_timeout) === \"undefined\" || force === true) {\n    root._bokeh_timeout = Date.now() + 5000;\n    root._bokeh_failed_load = false;\n  }\n\n  function run_callbacks() {\n    try {\n      root._bokeh_onload_callbacks.forEach(function(callback) {\n        if (callback != null)\n          callback();\n      });\n    } finally {\n      delete root._bokeh_onload_callbacks\n    }\n    console.debug(\"Bokeh: all callbacks have finished\");\n  }\n\n  function load_libs(css_urls, js_urls, callback) {\n    if (css_urls == null) css_urls = [];\n    if (js_urls == null) js_urls = [];\n\n    root._bokeh_onload_callbacks.push(callback);\n    if (root._bokeh_is_loading > 0) {\n      console.debug(\"Bokeh: BokehJS is being loaded, scheduling callback at\", now());\n      return null;\n    }\n    if (js_urls == null || js_urls.length === 0) {\n      run_callbacks();\n      return null;\n    }\n    console.debug(\"Bokeh: BokehJS not loaded, scheduling load and callback at\", now());\n    root._bokeh_is_loading = css_urls.length + js_urls.length;\n\n    function on_load() {\n      root._bokeh_is_loading--;\n      if (root._bokeh_is_loading === 0) {\n        console.debug(\"Bokeh: all BokehJS libraries/stylesheets loaded\");\n        run_callbacks()\n      }\n    }\n\n    function on_error() {\n      console.error(\"failed to load \" + url);\n    }\n\n    for (var i = 0; i < css_urls.length; i++) {\n      var url = css_urls[i];\n      const element = document.createElement(\"link\");\n      element.onload = on_load;\n      element.onerror = on_error;\n      element.rel = \"stylesheet\";\n      element.type = \"text/css\";\n      element.href = url;\n      console.debug(\"Bokeh: injecting link tag for BokehJS stylesheet: \", url);\n      document.body.appendChild(element);\n    }\n\n    var skip = [];\n    if (window.requirejs) {\n      require([], function() {\n      })\n    }\n    for (var i = 0; i < js_urls.length; i++) {\n      var url = js_urls[i];\n      if (skip.indexOf(url) >= 0) { on_load(); continue; }\n      var element = document.createElement('script');\n      element.onload = on_load;\n      element.onerror = on_error;\n      element.async = false;\n      element.src = url;\n      console.debug(\"Bokeh: injecting script tag for BokehJS library: \", url);\n      document.head.appendChild(element);\n    }\n\tif (!js_urls.length) {\n      on_load()\n    }\n  };\n\n  function inject_raw_css(css) {\n    const element = document.createElement(\"style\");\n    element.appendChild(document.createTextNode(css));\n    document.body.appendChild(element);\n  }\n\n  var js_urls = [\"https://cdn.bokeh.org/bokeh/release/bokeh-2.2.3.min.js\", \"https://cdn.bokeh.org/bokeh/release/bokeh-widgets-2.2.3.min.js\", \"https://cdn.bokeh.org/bokeh/release/bokeh-tables-2.2.3.min.js\", \"https://unpkg.com/@holoviz/panel@^0.10.3/dist/panel.min.js\"];\n  var css_urls = [\"https://unpkg.com/@holoviz/panel@0.10.3/dist/css/alerts.css\", \"https://unpkg.com/@holoviz/panel@0.10.3/dist/css/card.css\", \"https://unpkg.com/@holoviz/panel@0.10.3/dist/css/dataframe.css\", \"https://unpkg.com/@holoviz/panel@0.10.3/dist/css/json.css\", \"https://unpkg.com/@holoviz/panel@0.10.3/dist/css/markdown.css\", \"https://unpkg.com/@holoviz/panel@0.10.3/dist/css/widgets.css\"];\n\n  var inline_js = [\n    function(Bokeh) {\n      Bokeh.set_log_level(\"info\");\n    },\n    function(Bokeh) {} // ensure no trailing comma for IE\n  ];\n\n  function run_inline_js() {\n    if ((root.Bokeh !== undefined) || (force === true)) {\n      for (var i = 0; i < inline_js.length; i++) {\n        inline_js[i].call(root, root.Bokeh);\n      }} else if (Date.now() < root._bokeh_timeout) {\n      setTimeout(run_inline_js, 100);\n    } else if (!root._bokeh_failed_load) {\n      console.log(\"Bokeh: BokehJS failed to load within specified timeout.\");\n      root._bokeh_failed_load = true;\n    }\n  }\n\n  if (root._bokeh_is_loading === 0) {\n    console.debug(\"Bokeh: BokehJS loaded, going straight to plotting\");\n    run_inline_js();\n  } else {\n    load_libs(css_urls, js_urls, function() {\n      console.debug(\"Bokeh: BokehJS plotting callback run at\", now());\n      run_inline_js();\n    });\n  }\n}(window));",
      "application/vnd.holoviews_load.v0+json": ""
     },
     "metadata": {},
     "output_type": "display_data"
    },
    {
     "data": {
      "application/javascript": "\nif ((window.PyViz === undefined) || (window.PyViz instanceof HTMLElement)) {\n  window.PyViz = {comms: {}, comm_status:{}, kernels:{}, receivers: {}, plot_index: []}\n}\n\n\n    function JupyterCommManager() {\n    }\n\n    JupyterCommManager.prototype.register_target = function(plot_id, comm_id, msg_handler) {\n      if (window.comm_manager || ((window.Jupyter !== undefined) && (Jupyter.notebook.kernel != null))) {\n        var comm_manager = window.comm_manager || Jupyter.notebook.kernel.comm_manager;\n        comm_manager.register_target(comm_id, function(comm) {\n          comm.on_msg(msg_handler);\n        });\n      } else if ((plot_id in window.PyViz.kernels) && (window.PyViz.kernels[plot_id])) {\n        window.PyViz.kernels[plot_id].registerCommTarget(comm_id, function(comm) {\n          comm.onMsg = msg_handler;\n        });\n      } else if (typeof google != 'undefined' && google.colab.kernel != null) {\n        google.colab.kernel.comms.registerTarget(comm_id, (comm) => {\n          var messages = comm.messages[Symbol.asyncIterator]();\n          function processIteratorResult(result) {\n            var message = result.value;\n            console.log(message)\n            var content = {data: message.data, comm_id};\n            var buffers = []\n            for (var buffer of message.buffers || []) {\n              buffers.push(new DataView(buffer))\n            }\n            var metadata = message.metadata || {};\n            var msg = {content, buffers, metadata}\n            msg_handler(msg);\n            return messages.next().then(processIteratorResult);\n          }\n          return messages.next().then(processIteratorResult);\n        })\n      }\n    }\n\n    JupyterCommManager.prototype.get_client_comm = function(plot_id, comm_id, msg_handler) {\n      if (comm_id in window.PyViz.comms) {\n        return window.PyViz.comms[comm_id];\n      } else if (window.comm_manager || ((window.Jupyter !== undefined) && (Jupyter.notebook.kernel != null))) {\n        var comm_manager = window.comm_manager || Jupyter.notebook.kernel.comm_manager;\n        var comm = comm_manager.new_comm(comm_id, {}, {}, {}, comm_id);\n        if (msg_handler) {\n          comm.on_msg(msg_handler);\n        }\n      } else if ((plot_id in window.PyViz.kernels) && (window.PyViz.kernels[plot_id])) {\n        var comm = window.PyViz.kernels[plot_id].connectToComm(comm_id);\n        comm.open();\n        if (msg_handler) {\n          comm.onMsg = msg_handler;\n        }\n      } else if (typeof google != 'undefined' && google.colab.kernel != null) {\n        var comm_promise = google.colab.kernel.comms.open(comm_id)\n        comm_promise.then((comm) => {\n          window.PyViz.comms[comm_id] = comm;\n          if (msg_handler) {\n            var messages = comm.messages[Symbol.asyncIterator]();\n            function processIteratorResult(result) {\n              var message = result.value;\n              var content = {data: message.data};\n              var metadata = message.metadata || {comm_id};\n              var msg = {content, metadata}\n              msg_handler(msg);\n              return messages.next().then(processIteratorResult);\n            }\n            return messages.next().then(processIteratorResult);\n          }\n        }) \n        var sendClosure = (data, metadata, buffers, disposeOnDone) => {\n          return comm_promise.then((comm) => {\n            comm.send(data, metadata, buffers, disposeOnDone);\n          });\n        };\n        var comm = {\n          send: sendClosure\n        };\n      }\n      window.PyViz.comms[comm_id] = comm;\n      return comm;\n    }\n    window.PyViz.comm_manager = new JupyterCommManager();\n    \n\n\nvar JS_MIME_TYPE = 'application/javascript';\nvar HTML_MIME_TYPE = 'text/html';\nvar EXEC_MIME_TYPE = 'application/vnd.holoviews_exec.v0+json';\nvar CLASS_NAME = 'output';\n\n/**\n * Render data to the DOM node\n */\nfunction render(props, node) {\n  var div = document.createElement(\"div\");\n  var script = document.createElement(\"script\");\n  node.appendChild(div);\n  node.appendChild(script);\n}\n\n/**\n * Handle when a new output is added\n */\nfunction handle_add_output(event, handle) {\n  var output_area = handle.output_area;\n  var output = handle.output;\n  if ((output.data == undefined) || (!output.data.hasOwnProperty(EXEC_MIME_TYPE))) {\n    return\n  }\n  var id = output.metadata[EXEC_MIME_TYPE][\"id\"];\n  var toinsert = output_area.element.find(\".\" + CLASS_NAME.split(' ')[0]);\n  if (id !== undefined) {\n    var nchildren = toinsert.length;\n    var html_node = toinsert[nchildren-1].children[0];\n    html_node.innerHTML = output.data[HTML_MIME_TYPE];\n    var scripts = [];\n    var nodelist = html_node.querySelectorAll(\"script\");\n    for (var i in nodelist) {\n      if (nodelist.hasOwnProperty(i)) {\n        scripts.push(nodelist[i])\n      }\n    }\n\n    scripts.forEach( function (oldScript) {\n      var newScript = document.createElement(\"script\");\n      var attrs = [];\n      var nodemap = oldScript.attributes;\n      for (var j in nodemap) {\n        if (nodemap.hasOwnProperty(j)) {\n          attrs.push(nodemap[j])\n        }\n      }\n      attrs.forEach(function(attr) { newScript.setAttribute(attr.name, attr.value) });\n      newScript.appendChild(document.createTextNode(oldScript.innerHTML));\n      oldScript.parentNode.replaceChild(newScript, oldScript);\n    });\n    if (JS_MIME_TYPE in output.data) {\n      toinsert[nchildren-1].children[1].textContent = output.data[JS_MIME_TYPE];\n    }\n    output_area._hv_plot_id = id;\n    if ((window.Bokeh !== undefined) && (id in Bokeh.index)) {\n      window.PyViz.plot_index[id] = Bokeh.index[id];\n    } else {\n      window.PyViz.plot_index[id] = null;\n    }\n  } else if (output.metadata[EXEC_MIME_TYPE][\"server_id\"] !== undefined) {\n    var bk_div = document.createElement(\"div\");\n    bk_div.innerHTML = output.data[HTML_MIME_TYPE];\n    var script_attrs = bk_div.children[0].attributes;\n    for (var i = 0; i < script_attrs.length; i++) {\n      toinsert[toinsert.length - 1].childNodes[1].setAttribute(script_attrs[i].name, script_attrs[i].value);\n    }\n    // store reference to server id on output_area\n    output_area._bokeh_server_id = output.metadata[EXEC_MIME_TYPE][\"server_id\"];\n  }\n}\n\n/**\n * Handle when an output is cleared or removed\n */\nfunction handle_clear_output(event, handle) {\n  var id = handle.cell.output_area._hv_plot_id;\n  var server_id = handle.cell.output_area._bokeh_server_id;\n  if (((id === undefined) || !(id in PyViz.plot_index)) && (server_id !== undefined)) { return; }\n  var comm = window.PyViz.comm_manager.get_client_comm(\"hv-extension-comm\", \"hv-extension-comm\", function () {});\n  if (server_id !== null) {\n    comm.send({event_type: 'server_delete', 'id': server_id});\n    return;\n  } else if (comm !== null) {\n    comm.send({event_type: 'delete', 'id': id});\n  }\n  delete PyViz.plot_index[id];\n  if ((window.Bokeh !== undefined) & (id in window.Bokeh.index)) {\n    var doc = window.Bokeh.index[id].model.document\n    doc.clear();\n    const i = window.Bokeh.documents.indexOf(doc);\n    if (i > -1) {\n      window.Bokeh.documents.splice(i, 1);\n    }\n  }\n}\n\n/**\n * Handle kernel restart event\n */\nfunction handle_kernel_cleanup(event, handle) {\n  delete PyViz.comms[\"hv-extension-comm\"];\n  window.PyViz.plot_index = {}\n}\n\n/**\n * Handle update_display_data messages\n */\nfunction handle_update_output(event, handle) {\n  handle_clear_output(event, {cell: {output_area: handle.output_area}})\n  handle_add_output(event, handle)\n}\n\nfunction register_renderer(events, OutputArea) {\n  function append_mime(data, metadata, element) {\n    // create a DOM node to render to\n    var toinsert = this.create_output_subarea(\n    metadata,\n    CLASS_NAME,\n    EXEC_MIME_TYPE\n    );\n    this.keyboard_manager.register_events(toinsert);\n    // Render to node\n    var props = {data: data, metadata: metadata[EXEC_MIME_TYPE]};\n    render(props, toinsert[0]);\n    element.append(toinsert);\n    return toinsert\n  }\n\n  events.on('output_added.OutputArea', handle_add_output);\n  events.on('output_updated.OutputArea', handle_update_output);\n  events.on('clear_output.CodeCell', handle_clear_output);\n  events.on('delete.Cell', handle_clear_output);\n  events.on('kernel_ready.Kernel', handle_kernel_cleanup);\n\n  OutputArea.prototype.register_mime_type(EXEC_MIME_TYPE, append_mime, {\n    safe: true,\n    index: 0\n  });\n}\n\nif (window.Jupyter !== undefined) {\n  try {\n    var events = require('base/js/events');\n    var OutputArea = require('notebook/js/outputarea').OutputArea;\n    if (OutputArea.prototype.mime_types().indexOf(EXEC_MIME_TYPE) == -1) {\n      register_renderer(events, OutputArea);\n    }\n  } catch(err) {\n  }\n}\n",
      "application/vnd.holoviews_load.v0+json": ""
     },
     "metadata": {},
     "output_type": "display_data"
    },
    {
     "data": {
      "text/html": [
       "<html>\n",
       "<head>\n",
       "<link rel=\"stylesheet\" href=\"https://cdnjs.cloudflare.com/ajax/libs/vis/4.16.1/vis.css\" type=\"text/css\" />\n",
       "<script type=\"text/javascript\" src=\"https://cdnjs.cloudflare.com/ajax/libs/vis/4.16.1/vis-network.min.js\"> </script>\n",
       "<center>\n",
       "<h1></h1>\n",
       "</center>\n",
       "\n",
       "<!-- <link rel=\"stylesheet\" href=\"../node_modules/vis/dist/vis.min.css\" type=\"text/css\" />\n",
       "<script type=\"text/javascript\" src=\"../node_modules/vis/dist/vis.js\"> </script>-->\n",
       "\n",
       "<style type=\"text/css\">\n",
       "\n",
       "        #mynetwork {\n",
       "            width: 500px;\n",
       "            height: 500px;\n",
       "            background-color: #ffffff;\n",
       "            border: 1px solid lightgray;\n",
       "            position: relative;\n",
       "            float: left;\n",
       "        }\n",
       "\n",
       "        \n",
       "\n",
       "        \n",
       "\n",
       "        \n",
       "</style>\n",
       "\n",
       "</head>\n",
       "\n",
       "<body>\n",
       "<div id = \"mynetwork\"></div>\n",
       "\n",
       "\n",
       "<script type=\"text/javascript\">\n",
       "\n",
       "    // initialize global variables.\n",
       "    var edges;\n",
       "    var nodes;\n",
       "    var network; \n",
       "    var container;\n",
       "    var options, data;\n",
       "\n",
       "    \n",
       "    // This method is responsible for drawing the graph, returns the drawn network\n",
       "    function drawGraph() {\n",
       "        var container = document.getElementById('mynetwork');\n",
       "        \n",
       "        \n",
       "\n",
       "        // parsing and collecting nodes and edges from the python\n",
       "        nodes = new vis.DataSet([{\"color\": null, \"id\": \"Task_18okrx5\", \"label\": \"start\", \"shape\": \"dot\"}, {\"color\": null, \"id\": \"Task_0rkqglj\", \"label\": \"Flask\", \"shape\": \"dot\"}, {\"color\": null, \"id\": \"Task_1kmw8q2\", \"label\": \"Add\", \"shape\": \"dot\"}, {\"color\": null, \"id\": \"Task_1pf13pt\", \"label\": \"Add\", \"shape\": \"dot\"}, {\"color\": null, \"id\": \"Task_1q83zid\", \"label\": \"N2 flow\", \"shape\": \"dot\"}, {\"color\": null, \"id\": \"Task_13ntvj9\", \"label\": \"Stirr\", \"shape\": \"dot\"}, {\"color\": null, \"id\": \"Task_1iysbb1\", \"label\": \"Add\", \"shape\": \"dot\"}, {\"color\": null, \"id\": \"Task_106ukwo\", \"label\": \"Stirr\", \"shape\": \"dot\"}, {\"color\": null, \"id\": \"Task_0oj52dv\", \"label\": \"Stirr\", \"shape\": \"dot\"}, {\"color\": null, \"id\": \"Task_0ox863e\", \"label\": \"Extract\", \"shape\": \"dot\"}, {\"color\": null, \"id\": \"Task_0dp1qzx\", \"label\": \"Mix\", \"shape\": \"dot\"}, {\"color\": null, \"id\": \"Task_0v7bmfc\", \"label\": \"Organic layer\", \"shape\": \"dot\"}, {\"color\": null, \"id\": \"Task_0l155vr\", \"label\": \"Vacuum drying\", \"shape\": \"dot\"}, {\"color\": null, \"id\": \"Task_1c5vrwx\", \"label\": \"Recrystallization\", \"shape\": \"dot\"}, {\"color\": null, \"id\": \"Task_0t01x2o\", \"label\": \"Mix\", \"shape\": \"dot\"}, {\"color\": null, \"id\": \"Task_0gzjb2b\", \"label\": \"product\\nCompound\", \"shape\": \"dot\"}, {\"color\": null, \"id\": \"Task_1kydvbg\", \"label\": \"white solid\", \"shape\": \"dot\"}, {\"color\": null, \"id\": \"Task_11exz1p\", \"label\": \"Experiment condition\", \"shape\": \"dot\"}, {\"color\": null, \"id\": \"end_DG5yGqn4Xsabi45\", \"label\": \"end\", \"shape\": \"dot\"}, {\"color\": null, \"id\": \"Task_1un2egm_D4kUZkG0hwDW2Ko\", \"label\": \"Compound\", \"shape\": \"dot\"}, {\"color\": null, \"id\": \"Task_0hejyhd_rdd76vvXxnguIJF\", \"label\": \"Made by: TCI\", \"shape\": \"dot\"}, {\"color\": null, \"id\": \"Task_0wnhhyw_gMFCsRLUUiffYfO\", \"label\": \"Compound\", \"shape\": \"dot\"}, {\"color\": null, \"id\": \"Task_193ohpy_oxVaRKO0Y9JX1O2\", \"label\": \"Compound\", \"shape\": \"dot\"}, {\"color\": null, \"id\": \"Task_0wnhhyw_JHdeSLHPxAtTK8P\", \"label\": \"Compound\", \"shape\": \"dot\"}, {\"color\": null, \"id\": \"Task_094copi_sCnzYaAcCcVRS04\", \"label\": \"Compound\", \"shape\": \"dot\"}, {\"color\": null, \"id\": \"Task_11s4crw_Cqv5ZlVDbC6lwa3\", \"label\": \"Compound\", \"shape\": \"dot\"}, {\"color\": null, \"id\": \"Task_13s4y3z_OSktX2czBKTnOm7\", \"label\": \"Compound\", \"shape\": \"dot\"}, {\"color\": null, \"id\": \"Task_1hvmx5b_XvA1iqsbVuaEiF4\", \"label\": \"Compound\", \"shape\": \"dot\"}, {\"color\": null, \"id\": \"kMsWo1oQuulUrF1_title\", \"label\": \"volume\", \"shape\": \"dot\"}, {\"color\": null, \"id\": \"ra5EgsE0Mg9eeGf_prop\", \"label\": \"13\", \"shape\": \"dot\"}, {\"color\": null, \"id\": \"of7LwwmLUMACxNR_unit\", \"label\": \"mL\", \"shape\": \"dot\"}, {\"color\": null, \"id\": \"dI9eX1jdSYBRy8y_title\", \"label\": \"mol\", \"shape\": \"dot\"}, {\"color\": null, \"id\": \"th85b6heM7yCMaG_prop\", \"label\": \"75\", \"shape\": \"dot\"}, {\"color\": null, \"id\": \"devZYdcSbqXXknV_unit\", \"label\": \"mmol\", \"shape\": \"dot\"}, {\"color\": null, \"id\": \"qh7s36NBXqh1HJk_title\", \"label\": \"volume\", \"shape\": \"dot\"}, {\"color\": null, \"id\": \"3mpGPyDhUzmF3pI_prop\", \"label\": \"100\", \"shape\": \"dot\"}, {\"color\": null, \"id\": \"kT8zZfnKVlaqRxR_unit\", \"label\": \"mL\", \"shape\": \"dot\"}, {\"color\": null, \"id\": \"4zQu8vhNCoqx6QQ_title\", \"label\": \"temperature\", \"shape\": \"dot\"}, {\"color\": null, \"id\": \"7Y4E4v9KYs8cyFN_prop\", \"label\": \"-78\", \"shape\": \"dot\"}, {\"color\": null, \"id\": \"a03ymu6oYwVkB4s_unit\", \"label\": \"oC\", \"shape\": \"dot\"}, {\"color\": null, \"id\": \"Bfm39R2g2E1F7EG_title\", \"label\": \"duration\", \"shape\": \"dot\"}, {\"color\": null, \"id\": \"fGVXaKs8kR1Cp95_prop\", \"label\": \"15\", \"shape\": \"dot\"}, {\"color\": null, \"id\": \"IPGIvBEuJjhyemZ_unit\", \"label\": \"min\", \"shape\": \"dot\"}, {\"color\": null, \"id\": \"XDFlQGbgGCg0olJ_title\", \"label\": \"temperature\", \"shape\": \"dot\"}, {\"color\": null, \"id\": \"1zGd6XIR44ZeZcq_prop\", \"label\": \"-78\", \"shape\": \"dot\"}, {\"color\": null, \"id\": \"QaAq1p7LbrNnduC_unit\", \"label\": \"oC\", \"shape\": \"dot\"}, {\"color\": null, \"id\": \"HfG7D4DHQis5AqJ_title\", \"label\": \"duration\", \"shape\": \"dot\"}, {\"color\": null, \"id\": \"HUYe7HCAsQLPeSP_prop\", \"label\": \"20\", \"shape\": \"dot\"}, {\"color\": null, \"id\": \"cCJhntsa1FJxAsD_unit\", \"label\": \"min\", \"shape\": \"dot\"}, {\"color\": null, \"id\": \"8nw6ZxmAGPjbD52_title\", \"label\": \"temperature\", \"shape\": \"dot\"}, {\"color\": null, \"id\": \"ZIHrGmVvDlY5bcK_prop\", \"label\": \"25\", \"shape\": \"dot\"}, {\"color\": null, \"id\": \"C6vrkziHiBtmvD8_unit\", \"label\": \"oC\", \"shape\": \"dot\"}, {\"color\": null, \"id\": \"ZAhF9saW1ile2YA_title\", \"label\": \"duration\", \"shape\": \"dot\"}, {\"color\": null, \"id\": \"5NlYYUAduYhMGAO_prop\", \"label\": \"60\", \"shape\": \"dot\"}, {\"color\": null, \"id\": \"SzQZIjaiR8XGjw7_unit\", \"label\": \"min\", \"shape\": \"dot\"}, {\"color\": null, \"id\": \"TK7hoYn0Dw3Iwwu_title\", \"label\": \"SMILES\", \"shape\": \"dot\"}, {\"color\": null, \"id\": \"5h7CgA8jhgrMnWu_prop\", \"label\": \"O=C(C=C)NC1CC(C)(C)NC(C)(C)C1\", \"shape\": \"dot\"}, {\"color\": null, \"id\": \"p83isQzqV1hWWHg_title\", \"label\": \"weight\", \"shape\": \"dot\"}, {\"color\": null, \"id\": \"EQ7hfcpt5DSU3s8_prop\", \"label\": \"5.65\", \"shape\": \"dot\"}, {\"color\": null, \"id\": \"2emlWBZieNIe2dg_unit\", \"label\": \"g\", \"shape\": \"dot\"}, {\"color\": null, \"id\": \"jjbkUOZnVVPWq6D_title\", \"label\": \"yield\", \"shape\": \"dot\"}, {\"color\": \"#dd4b39\", \"id\": \"XzJmjgZmhUM4loW_prop\", \"label\": \"60\", \"shape\": \"dot\"}, {\"color\": null, \"id\": \"56qpxaoG9a4TqgR_unit\", \"label\": \"%\", \"shape\": \"dot\"}, {\"color\": null, \"id\": \"3tG41VKbrGNz8L5_title\", \"label\": \"Experimenter\", \"shape\": \"dot\"}, {\"color\": null, \"id\": \"qPsTmnt6b2pIdNO_prop\", \"label\": \"Yuto Igarashi\", \"shape\": \"dot\"}, {\"color\": null, \"id\": \"4BPbvwhd29ZwmbK_title\", \"label\": \"Date\", \"shape\": \"dot\"}, {\"color\": null, \"id\": \"FmshGU8TrMygLEc_prop\", \"label\": \"2022/2/8\", \"shape\": \"dot\"}, {\"color\": null, \"id\": \"1E4Tq4ucmAziXNC_title\", \"label\": \"SMILES\", \"shape\": \"dot\"}, {\"color\": null, \"id\": \"kJUoF9VvPO0d7bl_prop\", \"label\": \"NC1CC(C)(C)NC(C)(C)C1\", \"shape\": \"dot\"}, {\"color\": null, \"id\": \"px2Z7hC80yZhQzX_title\", \"label\": \"SMILES\", \"shape\": \"dot\"}, {\"color\": null, \"id\": \"TY0whFNVtZQpdal_prop\", \"label\": \"ClCCl\", \"shape\": \"dot\"}, {\"color\": null, \"id\": \"mvaWTMdWJRJzHG1_title\", \"label\": \"SMILES\", \"shape\": \"dot\"}, {\"color\": null, \"id\": \"5I1OeQ2syce7o25_prop\", \"label\": \"C=CC(Cl)=O\", \"shape\": \"dot\"}, {\"color\": null, \"id\": \"zZOtN6HZ1eFByhq_title\", \"label\": \"SMILES\", \"shape\": \"dot\"}, {\"color\": null, \"id\": \"6Moxx8Gjz29NffX_prop\", \"label\": \"ClCCl\", \"shape\": \"dot\"}, {\"color\": null, \"id\": \"vgvYp47X7slvW5N_title\", \"label\": \"SMILES\", \"shape\": \"dot\"}, {\"color\": null, \"id\": \"JkGQ4VJmhjhWXrH_prop\", \"label\": \"[Na+].[Na+].[O-]C([O-])=O\", \"shape\": \"dot\"}, {\"color\": null, \"id\": \"b3nXsX92FpRLx68_title\", \"label\": \"weight\", \"shape\": \"dot\"}, {\"color\": null, \"id\": \"MS7snNKN2noSFS1_prop\", \"label\": \"22\", \"shape\": \"dot\"}, {\"color\": null, \"id\": \"6FvhiWtrf2EV0AA_unit\", \"label\": \"g\", \"shape\": \"dot\"}, {\"color\": null, \"id\": \"6xR1jHIprrLlzAa_title\", \"label\": \"SMILES\", \"shape\": \"dot\"}, {\"color\": null, \"id\": \"jHBGTItmVMYhHiO_prop\", \"label\": \"CCCCCC\", \"shape\": \"dot\"}, {\"color\": null, \"id\": \"jWzYlOq4FMfbn2j_title\", \"label\": \"SMILES\", \"shape\": \"dot\"}, {\"color\": null, \"id\": \"mHOnLi9TxMmLpFn_prop\", \"label\": \"OCC\", \"shape\": \"dot\"}, {\"color\": null, \"id\": \"oepO3682ZNyWYpV_title\", \"label\": \"SMILES\", \"shape\": \"dot\"}, {\"color\": null, \"id\": \"EcUFeZ5tYUmErge_prop\", \"label\": \"O[H]\", \"shape\": \"dot\"}, {\"color\": null, \"id\": \"3iOEJgV241m4z1b_title\", \"label\": \"volume\", \"shape\": \"dot\"}, {\"color\": null, \"id\": \"XzuoJBdBZnARjhW_prop\", \"label\": \"100\", \"shape\": \"dot\"}, {\"color\": null, \"id\": \"iSbVqYdkg5CQVsW_unit\", \"label\": \"mL\", \"shape\": \"dot\"}]);\n",
       "        edges = new vis.DataSet([{\"arrows\": \"to\", \"from\": \"Task_18okrx5\", \"to\": \"Task_11exz1p\"}, {\"arrows\": \"to\", \"from\": \"Task_0rkqglj\", \"to\": \"Task_1kmw8q2\"}, {\"arrows\": \"to\", \"from\": \"Task_1kmw8q2\", \"to\": \"Task_1pf13pt\"}, {\"arrows\": \"to\", \"from\": \"Task_1pf13pt\", \"to\": \"Task_1q83zid\"}, {\"arrows\": \"to\", \"from\": \"Task_1q83zid\", \"to\": \"Task_13ntvj9\"}, {\"arrows\": \"to\", \"from\": \"Task_13ntvj9\", \"to\": \"Task_1iysbb1\"}, {\"arrows\": \"to\", \"from\": \"Task_1iysbb1\", \"to\": \"Task_106ukwo\"}, {\"arrows\": \"to\", \"from\": \"Task_106ukwo\", \"to\": \"Task_0oj52dv\"}, {\"arrows\": \"to\", \"from\": \"Task_0oj52dv\", \"to\": \"Task_0ox863e\"}, {\"arrows\": \"to\", \"from\": \"Task_0ox863e\", \"to\": \"Task_0v7bmfc\"}, {\"arrows\": \"to\", \"from\": \"Task_0dp1qzx\", \"to\": \"Task_0ox863e\"}, {\"arrows\": \"to\", \"from\": \"Task_0v7bmfc\", \"to\": \"Task_0l155vr\"}, {\"arrows\": \"to\", \"from\": \"Task_0l155vr\", \"to\": \"Task_1c5vrwx\"}, {\"arrows\": \"to\", \"from\": \"Task_1c5vrwx\", \"to\": \"Task_0gzjb2b\"}, {\"arrows\": \"to\", \"from\": \"Task_0t01x2o\", \"to\": \"Task_1c5vrwx\"}, {\"arrows\": \"to\", \"from\": \"Task_0gzjb2b\", \"to\": \"end_DG5yGqn4Xsabi45\"}, {\"arrows\": \"to\", \"from\": \"Task_1kydvbg\", \"to\": \"Task_0gzjb2b\"}, {\"arrows\": \"to\", \"from\": \"Task_11exz1p\", \"to\": \"Task_0rkqglj\"}, {\"arrows\": \"to\", \"from\": \"Task_1un2egm_D4kUZkG0hwDW2Ko\", \"to\": \"Task_1kmw8q2\"}, {\"arrows\": \"to\", \"from\": \"Task_0hejyhd_rdd76vvXxnguIJF\", \"to\": \"Task_1un2egm_D4kUZkG0hwDW2Ko\"}, {\"arrows\": \"to\", \"from\": \"Task_0wnhhyw_gMFCsRLUUiffYfO\", \"to\": \"Task_1pf13pt\"}, {\"arrows\": \"to\", \"from\": \"Task_193ohpy_oxVaRKO0Y9JX1O2\", \"to\": \"Task_1iysbb1\"}, {\"arrows\": \"to\", \"from\": \"Task_0wnhhyw_JHdeSLHPxAtTK8P\", \"to\": \"Task_0dp1qzx\"}, {\"arrows\": \"to\", \"from\": \"Task_094copi_sCnzYaAcCcVRS04\", \"to\": \"Task_0dp1qzx\"}, {\"arrows\": \"to\", \"from\": \"Task_11s4crw_Cqv5ZlVDbC6lwa3\", \"to\": \"Task_0t01x2o\"}, {\"arrows\": \"to\", \"from\": \"Task_13s4y3z_OSktX2czBKTnOm7\", \"to\": \"Task_0t01x2o\"}, {\"arrows\": \"to\", \"from\": \"Task_1hvmx5b_XvA1iqsbVuaEiF4\", \"to\": \"Task_0dp1qzx\"}, {\"arrows\": \"to\", \"from\": \"kMsWo1oQuulUrF1_title\", \"to\": \"Task_1un2egm_D4kUZkG0hwDW2Ko\"}, {\"arrows\": \"to\", \"from\": \"ra5EgsE0Mg9eeGf_prop\", \"to\": \"kMsWo1oQuulUrF1_title\"}, {\"arrows\": \"to\", \"from\": \"of7LwwmLUMACxNR_unit\", \"to\": \"ra5EgsE0Mg9eeGf_prop\"}, {\"arrows\": \"to\", \"from\": \"dI9eX1jdSYBRy8y_title\", \"to\": \"Task_1un2egm_D4kUZkG0hwDW2Ko\"}, {\"arrows\": \"to\", \"from\": \"th85b6heM7yCMaG_prop\", \"to\": \"dI9eX1jdSYBRy8y_title\"}, {\"arrows\": \"to\", \"from\": \"devZYdcSbqXXknV_unit\", \"to\": \"th85b6heM7yCMaG_prop\"}, {\"arrows\": \"to\", \"from\": \"qh7s36NBXqh1HJk_title\", \"to\": \"Task_0wnhhyw_gMFCsRLUUiffYfO\"}, {\"arrows\": \"to\", \"from\": \"3mpGPyDhUzmF3pI_prop\", \"to\": \"qh7s36NBXqh1HJk_title\"}, {\"arrows\": \"to\", \"from\": \"kT8zZfnKVlaqRxR_unit\", \"to\": \"3mpGPyDhUzmF3pI_prop\"}, {\"arrows\": \"to\", \"from\": \"4zQu8vhNCoqx6QQ_title\", \"to\": \"Task_13ntvj9\"}, {\"arrows\": \"to\", \"from\": \"7Y4E4v9KYs8cyFN_prop\", \"to\": \"4zQu8vhNCoqx6QQ_title\"}, {\"arrows\": \"to\", \"from\": \"a03ymu6oYwVkB4s_unit\", \"to\": \"7Y4E4v9KYs8cyFN_prop\"}, {\"arrows\": \"to\", \"from\": \"Bfm39R2g2E1F7EG_title\", \"to\": \"Task_13ntvj9\"}, {\"arrows\": \"to\", \"from\": \"fGVXaKs8kR1Cp95_prop\", \"to\": \"Bfm39R2g2E1F7EG_title\"}, {\"arrows\": \"to\", \"from\": \"IPGIvBEuJjhyemZ_unit\", \"to\": \"fGVXaKs8kR1Cp95_prop\"}, {\"arrows\": \"to\", \"from\": \"XDFlQGbgGCg0olJ_title\", \"to\": \"Task_106ukwo\"}, {\"arrows\": \"to\", \"from\": \"1zGd6XIR44ZeZcq_prop\", \"to\": \"XDFlQGbgGCg0olJ_title\"}, {\"arrows\": \"to\", \"from\": \"QaAq1p7LbrNnduC_unit\", \"to\": \"1zGd6XIR44ZeZcq_prop\"}, {\"arrows\": \"to\", \"from\": \"HfG7D4DHQis5AqJ_title\", \"to\": \"Task_106ukwo\"}, {\"arrows\": \"to\", \"from\": \"HUYe7HCAsQLPeSP_prop\", \"to\": \"HfG7D4DHQis5AqJ_title\"}, {\"arrows\": \"to\", \"from\": \"cCJhntsa1FJxAsD_unit\", \"to\": \"HUYe7HCAsQLPeSP_prop\"}, {\"arrows\": \"to\", \"from\": \"8nw6ZxmAGPjbD52_title\", \"to\": \"Task_0oj52dv\"}, {\"arrows\": \"to\", \"from\": \"ZIHrGmVvDlY5bcK_prop\", \"to\": \"8nw6ZxmAGPjbD52_title\"}, {\"arrows\": \"to\", \"from\": \"C6vrkziHiBtmvD8_unit\", \"to\": \"ZIHrGmVvDlY5bcK_prop\"}, {\"arrows\": \"to\", \"from\": \"ZAhF9saW1ile2YA_title\", \"to\": \"Task_0oj52dv\"}, {\"arrows\": \"to\", \"from\": \"5NlYYUAduYhMGAO_prop\", \"to\": \"ZAhF9saW1ile2YA_title\"}, {\"arrows\": \"to\", \"from\": \"SzQZIjaiR8XGjw7_unit\", \"to\": \"5NlYYUAduYhMGAO_prop\"}, {\"arrows\": \"to\", \"from\": \"TK7hoYn0Dw3Iwwu_title\", \"to\": \"Task_0gzjb2b\"}, {\"arrows\": \"to\", \"from\": \"5h7CgA8jhgrMnWu_prop\", \"to\": \"TK7hoYn0Dw3Iwwu_title\"}, {\"arrows\": \"to\", \"from\": \"p83isQzqV1hWWHg_title\", \"to\": \"Task_1kydvbg\"}, {\"arrows\": \"to\", \"from\": \"EQ7hfcpt5DSU3s8_prop\", \"to\": \"p83isQzqV1hWWHg_title\"}, {\"arrows\": \"to\", \"from\": \"2emlWBZieNIe2dg_unit\", \"to\": \"EQ7hfcpt5DSU3s8_prop\"}, {\"arrows\": \"to\", \"from\": \"jjbkUOZnVVPWq6D_title\", \"to\": \"Task_1kydvbg\"}, {\"arrows\": \"to\", \"from\": \"XzJmjgZmhUM4loW_prop\", \"to\": \"jjbkUOZnVVPWq6D_title\"}, {\"arrows\": \"to\", \"from\": \"56qpxaoG9a4TqgR_unit\", \"to\": \"XzJmjgZmhUM4loW_prop\"}, {\"arrows\": \"to\", \"from\": \"3tG41VKbrGNz8L5_title\", \"to\": \"Task_11exz1p\"}, {\"arrows\": \"to\", \"from\": \"qPsTmnt6b2pIdNO_prop\", \"to\": \"3tG41VKbrGNz8L5_title\"}, {\"arrows\": \"to\", \"from\": \"4BPbvwhd29ZwmbK_title\", \"to\": \"Task_11exz1p\"}, {\"arrows\": \"to\", \"from\": \"FmshGU8TrMygLEc_prop\", \"to\": \"4BPbvwhd29ZwmbK_title\"}, {\"arrows\": \"to\", \"from\": \"1E4Tq4ucmAziXNC_title\", \"to\": \"Task_1un2egm_D4kUZkG0hwDW2Ko\"}, {\"arrows\": \"to\", \"from\": \"kJUoF9VvPO0d7bl_prop\", \"to\": \"1E4Tq4ucmAziXNC_title\"}, {\"arrows\": \"to\", \"from\": \"px2Z7hC80yZhQzX_title\", \"to\": \"Task_0wnhhyw_gMFCsRLUUiffYfO\"}, {\"arrows\": \"to\", \"from\": \"TY0whFNVtZQpdal_prop\", \"to\": \"px2Z7hC80yZhQzX_title\"}, {\"arrows\": \"to\", \"from\": \"mvaWTMdWJRJzHG1_title\", \"to\": \"Task_193ohpy_oxVaRKO0Y9JX1O2\"}, {\"arrows\": \"to\", \"from\": \"5I1OeQ2syce7o25_prop\", \"to\": \"mvaWTMdWJRJzHG1_title\"}, {\"arrows\": \"to\", \"from\": \"zZOtN6HZ1eFByhq_title\", \"to\": \"Task_0wnhhyw_JHdeSLHPxAtTK8P\"}, {\"arrows\": \"to\", \"from\": \"6Moxx8Gjz29NffX_prop\", \"to\": \"zZOtN6HZ1eFByhq_title\"}, {\"arrows\": \"to\", \"from\": \"vgvYp47X7slvW5N_title\", \"to\": \"Task_094copi_sCnzYaAcCcVRS04\"}, {\"arrows\": \"to\", \"from\": \"JkGQ4VJmhjhWXrH_prop\", \"to\": \"vgvYp47X7slvW5N_title\"}, {\"arrows\": \"to\", \"from\": \"b3nXsX92FpRLx68_title\", \"to\": \"Task_094copi_sCnzYaAcCcVRS04\"}, {\"arrows\": \"to\", \"from\": \"MS7snNKN2noSFS1_prop\", \"to\": \"b3nXsX92FpRLx68_title\"}, {\"arrows\": \"to\", \"from\": \"6FvhiWtrf2EV0AA_unit\", \"to\": \"MS7snNKN2noSFS1_prop\"}, {\"arrows\": \"to\", \"from\": \"6xR1jHIprrLlzAa_title\", \"to\": \"Task_11s4crw_Cqv5ZlVDbC6lwa3\"}, {\"arrows\": \"to\", \"from\": \"jHBGTItmVMYhHiO_prop\", \"to\": \"6xR1jHIprrLlzAa_title\"}, {\"arrows\": \"to\", \"from\": \"jWzYlOq4FMfbn2j_title\", \"to\": \"Task_13s4y3z_OSktX2czBKTnOm7\"}, {\"arrows\": \"to\", \"from\": \"mHOnLi9TxMmLpFn_prop\", \"to\": \"jWzYlOq4FMfbn2j_title\"}, {\"arrows\": \"to\", \"from\": \"oepO3682ZNyWYpV_title\", \"to\": \"Task_1hvmx5b_XvA1iqsbVuaEiF4\"}, {\"arrows\": \"to\", \"from\": \"EcUFeZ5tYUmErge_prop\", \"to\": \"oepO3682ZNyWYpV_title\"}, {\"arrows\": \"to\", \"from\": \"3iOEJgV241m4z1b_title\", \"to\": \"Task_1hvmx5b_XvA1iqsbVuaEiF4\"}, {\"arrows\": \"to\", \"from\": \"XzuoJBdBZnARjhW_prop\", \"to\": \"3iOEJgV241m4z1b_title\"}, {\"arrows\": \"to\", \"from\": \"iSbVqYdkg5CQVsW_unit\", \"to\": \"XzuoJBdBZnARjhW_prop\"}]);\n",
       "\n",
       "        // adding nodes and edges to the graph\n",
       "        data = {nodes: nodes, edges: edges};\n",
       "\n",
       "        var options = {\n",
       "    \"configure\": {\n",
       "        \"enabled\": false\n",
       "    },\n",
       "    \"edges\": {\n",
       "        \"color\": {\n",
       "            \"inherit\": true\n",
       "        },\n",
       "        \"smooth\": {\n",
       "            \"enabled\": false,\n",
       "            \"type\": \"continuous\"\n",
       "        }\n",
       "    },\n",
       "    \"interaction\": {\n",
       "        \"dragNodes\": true,\n",
       "        \"hideEdgesOnDrag\": false,\n",
       "        \"hideNodesOnDrag\": false\n",
       "    },\n",
       "    \"physics\": {\n",
       "        \"enabled\": true,\n",
       "        \"stabilization\": {\n",
       "            \"enabled\": true,\n",
       "            \"fit\": true,\n",
       "            \"iterations\": 1000,\n",
       "            \"onlyDynamicEdges\": false,\n",
       "            \"updateInterval\": 50\n",
       "        }\n",
       "    }\n",
       "};\n",
       "        \n",
       "        \n",
       "\n",
       "        \n",
       "\n",
       "        network = new vis.Network(container, data, options);\n",
       "\t \n",
       "        \n",
       "\n",
       "\n",
       "        \n",
       "\n",
       "        return network;\n",
       "\n",
       "    }\n",
       "\n",
       "    drawGraph();\n",
       "\n",
       "</script>\n",
       "</body>\n",
       "</html>"
      ],
      "text/plain": [
       "<IPython.core.display.HTML object>"
      ]
     },
     "metadata": {},
     "output_type": "display_data"
    }
   ],
   "source": [
    "from IPython.core.display import HTML\n",
    "import panel as pn\n",
    "pn.extension(comms='ipywidgets')\n",
    "display(HTML('temp/fc.html'))"
   ]
  },
  {
   "cell_type": "code",
   "execution_count": 15,
   "metadata": {},
   "outputs": [],
   "source": []
  },
  {
   "cell_type": "code",
   "execution_count": 21,
   "metadata": {},
   "outputs": [
    {
     "data": {
      "application/vnd.jupyter.widget-view+json": {
       "model_id": "353ecdb185c642ccb6b0a4f19bc2a7dd",
       "version_major": 2,
       "version_minor": 0
      },
      "text/plain": [
       "interactive(children=(Dropdown(description='n', options=(1, 2, 3), value=1), Dropdown(description='color', opt…"
      ]
     },
     "metadata": {},
     "output_type": "display_data"
    }
   ],
   "source": [
    "import matplotlib.pyplot as plt\n",
    "import numpy as np\n",
    "from ipywidgets import interact\n",
    "\n",
    "@interact(n=[1, 2, 3], color=['red', 'green', 'blue'])\n",
    "def func(n, color):\n",
    "    x = np.linspace(-100, 100)\n",
    "    plt.plot(x, x**n, color=color)\n",
    "    #display(HTML('temp/fc.html'))    \n"
   ]
  },
  {
   "cell_type": "code",
   "execution_count": null,
   "metadata": {},
   "outputs": [],
   "source": []
  }
 ],
 "metadata": {
  "interpreter": {
   "hash": "b611c5573b65b3622b7accb9c1f40b97765ff0445b89d16be92b11ca75db40a7"
  },
  "kernelspec": {
   "display_name": "Environment (conda_mi)",
   "language": "python",
   "name": "python3"
  },
  "language_info": {
   "codemirror_mode": {
    "name": "ipython",
    "version": 3
   },
   "file_extension": ".py",
   "mimetype": "text/x-python",
   "name": "python",
   "nbconvert_exporter": "python",
   "pygments_lexer": "ipython3",
   "version": "3.7.9"
  }
 },
 "nbformat": 4,
 "nbformat_minor": 4
}
