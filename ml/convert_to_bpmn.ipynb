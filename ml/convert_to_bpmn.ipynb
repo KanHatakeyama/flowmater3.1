{
 "cells": [
  {
   "cell_type": "code",
   "execution_count": 259,
   "metadata": {},
   "outputs": [
    {
     "name": "stdout",
     "output_type": "stream",
     "text": [
      "The autoreload extension is already loaded. To reload it, use:\n",
      "  %reload_ext autoreload\n"
     ]
    }
   ],
   "source": [
    "%load_ext autoreload\n",
    "%autoreload 2\n",
    "\n",
    "from xml.etree.ElementTree import Element, SubElement, ElementTree\n",
    "from nxedit.xml_generator.xml_maker import graph_to_xml\n",
    "from nxedit.xml_generator.utils import calc_tree_pos \n",
    "import networkx as nx\n",
    "\n",
    "import joblib\n"
   ]
  },
  {
   "cell_type": "code",
   "execution_count": 260,
   "metadata": {},
   "outputs": [],
   "source": [
    "# node id should begin with Task_****"
   ]
  },
  {
   "cell_type": "code",
   "execution_count": 261,
   "metadata": {},
   "outputs": [],
   "source": [
    "\n",
    "g=joblib.load(\"temp/g.bin\")"
   ]
  },
  {
   "cell_type": "code",
   "execution_count": 262,
   "metadata": {},
   "outputs": [
    {
     "data": {
      "text/plain": [
       "'\\ng=nx.DiGraph()\\ng.add_node(\"Task_1\",node_name=\"start\")\\ng.add_node(\"Task_2\",node_name=\"middle\")\\ng.add_node(\"Task_3\",node_name=\"end\")\\ng.add_node(\"Task_4\",node_name=\"inter\")\\ng.add_edge(\"Task_1\",\"Task_2\")\\ng.add_edge(\"Task_2\",\"Task_3\")\\ng.add_edge(\"Task_2\",\"Task_4\")\\n'"
      ]
     },
     "execution_count": 262,
     "metadata": {},
     "output_type": "execute_result"
    }
   ],
   "source": [
    "\"\"\"\n",
    "g=nx.DiGraph()\n",
    "g.add_node(\"Task_1\",node_name=\"start\")\n",
    "g.add_node(\"Task_2\",node_name=\"middle\")\n",
    "g.add_node(\"Task_3\",node_name=\"end\")\n",
    "g.add_node(\"Task_4\",node_name=\"inter\")\n",
    "g.add_edge(\"Task_1\",\"Task_2\")\n",
    "g.add_edge(\"Task_2\",\"Task_3\")\n",
    "g.add_edge(\"Task_2\",\"Task_4\")\n",
    "\"\"\""
   ]
  },
  {
   "cell_type": "code",
   "execution_count": 263,
   "metadata": {},
   "outputs": [],
   "source": [
    "pos=calc_tree_pos(g)\n",
    "graph_to_xml(g,pos,\"temp/example.xml\")"
   ]
  },
  {
   "cell_type": "code",
   "execution_count": 258,
   "metadata": {},
   "outputs": [],
   "source": []
  },
  {
   "cell_type": "code",
   "execution_count": 256,
   "metadata": {},
   "outputs": [],
   "source": []
  },
  {
   "cell_type": "code",
   "execution_count": null,
   "metadata": {},
   "outputs": [],
   "source": []
  },
  {
   "cell_type": "code",
   "execution_count": null,
   "metadata": {},
   "outputs": [],
   "source": []
  }
 ],
 "metadata": {
  "interpreter": {
   "hash": "b611c5573b65b3622b7accb9c1f40b97765ff0445b89d16be92b11ca75db40a7"
  },
  "kernelspec": {
   "display_name": "Python 3.7.9 ('mi')",
   "language": "python",
   "name": "python3"
  },
  "language_info": {
   "codemirror_mode": {
    "name": "ipython",
    "version": 3
   },
   "file_extension": ".py",
   "mimetype": "text/x-python",
   "name": "python",
   "nbconvert_exporter": "python",
   "pygments_lexer": "ipython3",
   "version": "3.7.9"
  },
  "orig_nbformat": 4
 },
 "nbformat": 4,
 "nbformat_minor": 2
}
